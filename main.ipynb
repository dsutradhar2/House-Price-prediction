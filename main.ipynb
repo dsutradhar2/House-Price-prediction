{
 "cells": [
  {
   "cell_type": "markdown",
   "id": "61f98da7",
   "metadata": {},
   "source": [
    "# import all required libraries"
   ]
  },
  {
   "cell_type": "code",
   "execution_count": 1,
   "id": "f584d0c5",
   "metadata": {},
   "outputs": [],
   "source": [
    "import pandas as pd\n",
    "import matplotlib.pyplot as plt\n",
    "from sklearn.pipeline import Pipeline\n",
    "from sklearn.impute import SimpleImputer\n",
    "from sklearn.compose import ColumnTransformer\n",
    "from sklearn.preprocessing import OneHotEncoder\n",
    "from sklearn.preprocessing import OrdinalEncoder\n",
    "from sklearn.preprocessing import StandardScaler"
   ]
  },
  {
   "cell_type": "markdown",
   "id": "34e891e4",
   "metadata": {},
   "source": [
    "# Load data from csv file"
   ]
  },
  {
   "cell_type": "code",
   "execution_count": 2,
   "id": "83b7ff7e",
   "metadata": {},
   "outputs": [],
   "source": [
    "housing_train = pd.read_csv('train.csv')\n",
    "housing_test = pd.read_csv('test.csv')\n",
    "Y_label =  housing_train['SalePrice'].copy()\n",
    "housing_train = housing_train.drop(['SalePrice'], axis=1)\n",
    "all_data = pd.concat([housing_train, housing_test])"
   ]
  },
  {
   "cell_type": "markdown",
   "id": "1e60aefe",
   "metadata": {},
   "source": [
    "# Feature Engineering"
   ]
  },
  {
   "cell_type": "markdown",
   "id": "c40dec18",
   "metadata": {},
   "source": [
    "## Fill empty data"
   ]
  },
  {
   "cell_type": "code",
   "execution_count": 3,
   "id": "c664c64d",
   "metadata": {},
   "outputs": [],
   "source": [
    "all_data[\"GarageYrBlt\"].fillna(0, inplace=True)\n",
    "all_data[\"MasVnrArea\"].fillna(0, inplace=True)\n",
    "all_data[\"LotFrontage\"].fillna(0, inplace=True)\n",
    "all_data[\"Alley\"].fillna('None', inplace=True)\n",
    "all_data[\"MasVnrType\"].fillna('None', inplace=True)\n",
    "all_data[\"BsmtQual\"].fillna('None', inplace=True)\n",
    "all_data[\"BsmtCond\"].fillna('None', inplace=True)\n",
    "all_data[\"BsmtExposure\"].fillna('None', inplace=True)\n",
    "all_data[\"BsmtFinType1\"].fillna('None', inplace=True)\n",
    "all_data[\"BsmtFinType2\"].fillna('None', inplace=True)\n",
    "all_data[\"Electrical\"].fillna(housing_train[\"Electrical\"].mode()[0], inplace=True)\n",
    "all_data[\"FireplaceQu\"].fillna('None', inplace=True)\n",
    "all_data[\"GarageType\"].fillna('None', inplace=True)\n",
    "all_data[\"GarageFinish\"].fillna('None', inplace=True)\n",
    "all_data[\"GarageQual\"].fillna('None', inplace=True)\n",
    "all_data[\"GarageCond\"].fillna('None', inplace=True)\n",
    "all_data[\"PoolQC\"].fillna('None', inplace=True)\n",
    "all_data[\"Fence\"].fillna('None', inplace=True)\n",
    "all_data[\"MiscFeature\"].fillna('None', inplace=True)\n",
    "all_data[\"MSZoning\"].fillna(housing_test[\"MSZoning\"].mode()[0], inplace=True)\n",
    "all_data[\"Utilities\"].fillna(housing_test[\"Utilities\"].mode()[0], inplace=True)\n",
    "all_data[\"Exterior1st\"].fillna(housing_test[\"Exterior1st\"].mode()[0], inplace=True)\n",
    "all_data[\"Exterior2nd\"].fillna(housing_test[\"Exterior2nd\"].mode()[0], inplace=True)\n",
    "all_data[\"BsmtFinSF2\"].fillna(housing_test[\"BsmtFinSF2\"].mean(), inplace=True)\n",
    "all_data[\"BsmtUnfSF\"].fillna(housing_test[\"BsmtUnfSF\"].mean(), inplace=True)\n",
    "all_data[\"TotalBsmtSF\"].fillna(housing_test[\"TotalBsmtSF\"].mean(), inplace=True)\n",
    "all_data[\"BsmtFinSF1\"].fillna(housing_test[\"BsmtFinSF1\"].mean(), inplace=True)\n",
    "all_data[\"BsmtFullBath\"].fillna(housing_test[\"BsmtFullBath\"].mode()[0], inplace=True)\n",
    "all_data[\"BsmtHalfBath\"].fillna(housing_test[\"BsmtHalfBath\"].mode()[0], inplace=True)\n",
    "all_data[\"KitchenQual\"].fillna(housing_test[\"KitchenQual\"].mode()[0], inplace=True)\n",
    "all_data[\"GarageArea\"].fillna(0, inplace=True)\n",
    "all_data[\"GarageCars\"].fillna(0, inplace=True)\n",
    "all_data[\"Functional\"].fillna(housing_test[\"Functional\"].mode()[0], inplace=True)\n",
    "all_data[\"SaleType\"].fillna(housing_test[\"SaleType\"].mode()[0], inplace=True)"
   ]
  },
  {
   "cell_type": "markdown",
   "id": "cee1ef5f",
   "metadata": {
    "scrolled": true
   },
   "source": [
    "## Handle categorical data"
   ]
  },
  {
   "cell_type": "markdown",
   "id": "1a113ae2",
   "metadata": {},
   "source": [
    "### Ordinal encoder and One hot encoder"
   ]
  },
  {
   "cell_type": "code",
   "execution_count": 4,
   "id": "c9fe02e4",
   "metadata": {
    "scrolled": true
   },
   "outputs": [],
   "source": [
    "column_transformer = ColumnTransformer(transformers=[(\"OE\", OrdinalEncoder(categories=[\n",
    "                                                                                         ['ELO','NoSeWa','NoSewr','AllPub'],\n",
    "                                                                                         ['Sev', 'Mod','Gtl'],\n",
    "                                                                                         ['Po','Fa','TA','Gd','Ex'],\n",
    "                                                                                         ['Po','Fa','TA','Gd','Ex'],\n",
    "                                                                                         ['None','Po','Fa','TA','Gd','Ex'],\n",
    "                                                                                         ['None','Po','Fa','TA','Gd','Ex'],\n",
    "                                                                                         ['None','No','Mn','Av','Gd'],\n",
    "                                                                                         ['None','Unf','LwQ','Rec','BLQ','ALQ','GLQ'],\n",
    "                                                                                         ['None','Unf','LwQ','Rec','BLQ','ALQ','GLQ'],\n",
    "                                                                                         ['Po','Fa','TA','Gd','Ex'],\n",
    "                                                                                         ['N','Y'],\n",
    "                                                                                         ['Po','Fa','TA','Gd','Ex'],\n",
    "                                                                                         ['Sal','Sev','Maj2','Maj1','Mod','Min2','Min1','Typ'],\n",
    "                                                                                         ['None','Po','Fa','TA','Gd','Ex'],\n",
    "                                                                                         ['None','Detchd','CarPort','BuiltIn','Basment','Attchd','2Types'],\n",
    "                                                                                         ['None','Unf','RFn','Fin'],\n",
    "                                                                                         ['None','Po','Fa','TA','Gd','Ex'],\n",
    "                                                                                         ['None','Po','Fa','TA','Gd','Ex'],\n",
    "                                                                                         ['N','P','Y'],\n",
    "                                                                                         ['None','Po','Fa','TA','Gd','Ex'],\n",
    "                                                                                         ['None','MnWw','GdWo','MnPrv','GdPrv']\n",
    "                                                                                      ]\n",
    "                                                                           ), \n",
    "                                                       ['Utilities', 'LandSlope', 'ExterQual', 'ExterCond', 'BsmtQual', 'BsmtCond', 'BsmtExposure', 'BsmtFinType1', 'BsmtFinType2', 'HeatingQC', 'CentralAir', 'KitchenQual', 'Functional', 'FireplaceQu', 'GarageType', 'GarageFinish', 'GarageQual','GarageCond', 'PavedDrive', 'PoolQC','Fence']\n",
    "                                                     ),\n",
    "                                                    ('OHE', OneHotEncoder(sparse_output=False, drop='first'), ['MSSubClass','MSZoning','Street','Alley','LotShape','LandContour','LotConfig','Neighborhood','Condition1','Condition2','BldgType','HouseStyle','RoofStyle','RoofMatl','Exterior1st','Exterior2nd','MasVnrType','Foundation','Heating','Electrical','MiscFeature','SaleType','SaleCondition'])], remainder='passthrough')\n",
    "column_transformer.set_output(transform='pandas')\n",
    "all_data_trans = column_transformer.fit_transform(all_data)\n",
    "all_data_trans = all_data_trans.loc[:,~all_data_trans.columns.duplicated()].copy()"
   ]
  },
  {
   "cell_type": "code",
   "execution_count": 5,
   "id": "f92d6e82",
   "metadata": {},
   "outputs": [],
   "source": [
    "housing_train = all_data_trans.iloc[:1460,:]\n",
    "housing_test = all_data_trans.iloc[1460:,:]"
   ]
  },
  {
   "cell_type": "code",
   "execution_count": 6,
   "id": "76969652",
   "metadata": {},
   "outputs": [],
   "source": [
    "my_pipeline = Pipeline([('scaler', StandardScaler())])"
   ]
  },
  {
   "cell_type": "code",
   "execution_count": 7,
   "id": "28a5a73f",
   "metadata": {},
   "outputs": [],
   "source": [
    "housing_train_tr = my_pipeline.fit_transform(housing_train)\n",
    "housing_test_tr = my_pipeline.transform(housing_test)"
   ]
  },
  {
   "cell_type": "code",
   "execution_count": 8,
   "id": "4088af71",
   "metadata": {
    "scrolled": true
   },
   "outputs": [
    {
     "data": {
      "text/html": [
       "<style>#sk-container-id-1 {color: black;background-color: white;}#sk-container-id-1 pre{padding: 0;}#sk-container-id-1 div.sk-toggleable {background-color: white;}#sk-container-id-1 label.sk-toggleable__label {cursor: pointer;display: block;width: 100%;margin-bottom: 0;padding: 0.3em;box-sizing: border-box;text-align: center;}#sk-container-id-1 label.sk-toggleable__label-arrow:before {content: \"▸\";float: left;margin-right: 0.25em;color: #696969;}#sk-container-id-1 label.sk-toggleable__label-arrow:hover:before {color: black;}#sk-container-id-1 div.sk-estimator:hover label.sk-toggleable__label-arrow:before {color: black;}#sk-container-id-1 div.sk-toggleable__content {max-height: 0;max-width: 0;overflow: hidden;text-align: left;background-color: #f0f8ff;}#sk-container-id-1 div.sk-toggleable__content pre {margin: 0.2em;color: black;border-radius: 0.25em;background-color: #f0f8ff;}#sk-container-id-1 input.sk-toggleable__control:checked~div.sk-toggleable__content {max-height: 200px;max-width: 100%;overflow: auto;}#sk-container-id-1 input.sk-toggleable__control:checked~label.sk-toggleable__label-arrow:before {content: \"▾\";}#sk-container-id-1 div.sk-estimator input.sk-toggleable__control:checked~label.sk-toggleable__label {background-color: #d4ebff;}#sk-container-id-1 div.sk-label input.sk-toggleable__control:checked~label.sk-toggleable__label {background-color: #d4ebff;}#sk-container-id-1 input.sk-hidden--visually {border: 0;clip: rect(1px 1px 1px 1px);clip: rect(1px, 1px, 1px, 1px);height: 1px;margin: -1px;overflow: hidden;padding: 0;position: absolute;width: 1px;}#sk-container-id-1 div.sk-estimator {font-family: monospace;background-color: #f0f8ff;border: 1px dotted black;border-radius: 0.25em;box-sizing: border-box;margin-bottom: 0.5em;}#sk-container-id-1 div.sk-estimator:hover {background-color: #d4ebff;}#sk-container-id-1 div.sk-parallel-item::after {content: \"\";width: 100%;border-bottom: 1px solid gray;flex-grow: 1;}#sk-container-id-1 div.sk-label:hover label.sk-toggleable__label {background-color: #d4ebff;}#sk-container-id-1 div.sk-serial::before {content: \"\";position: absolute;border-left: 1px solid gray;box-sizing: border-box;top: 0;bottom: 0;left: 50%;z-index: 0;}#sk-container-id-1 div.sk-serial {display: flex;flex-direction: column;align-items: center;background-color: white;padding-right: 0.2em;padding-left: 0.2em;position: relative;}#sk-container-id-1 div.sk-item {position: relative;z-index: 1;}#sk-container-id-1 div.sk-parallel {display: flex;align-items: stretch;justify-content: center;background-color: white;position: relative;}#sk-container-id-1 div.sk-item::before, #sk-container-id-1 div.sk-parallel-item::before {content: \"\";position: absolute;border-left: 1px solid gray;box-sizing: border-box;top: 0;bottom: 0;left: 50%;z-index: -1;}#sk-container-id-1 div.sk-parallel-item {display: flex;flex-direction: column;z-index: 1;position: relative;background-color: white;}#sk-container-id-1 div.sk-parallel-item:first-child::after {align-self: flex-end;width: 50%;}#sk-container-id-1 div.sk-parallel-item:last-child::after {align-self: flex-start;width: 50%;}#sk-container-id-1 div.sk-parallel-item:only-child::after {width: 0;}#sk-container-id-1 div.sk-dashed-wrapped {border: 1px dashed gray;margin: 0 0.4em 0.5em 0.4em;box-sizing: border-box;padding-bottom: 0.4em;background-color: white;}#sk-container-id-1 div.sk-label label {font-family: monospace;font-weight: bold;display: inline-block;line-height: 1.2em;}#sk-container-id-1 div.sk-label-container {text-align: center;}#sk-container-id-1 div.sk-container {/* jupyter's `normalize.less` sets `[hidden] { display: none; }` but bootstrap.min.css set `[hidden] { display: none !important; }` so we also need the `!important` here to be able to override the default hidden behavior on the sphinx rendered scikit-learn.org. See: https://github.com/scikit-learn/scikit-learn/issues/21755 */display: inline-block !important;position: relative;}#sk-container-id-1 div.sk-text-repr-fallback {display: none;}</style><div id=\"sk-container-id-1\" class=\"sk-top-container\"><div class=\"sk-text-repr-fallback\"><pre>XGBRegressor(base_score=None, booster=None, callbacks=None,\n",
       "             colsample_bylevel=None, colsample_bynode=None,\n",
       "             colsample_bytree=None, early_stopping_rounds=None,\n",
       "             enable_categorical=False, eval_metric=None, feature_types=None,\n",
       "             gamma=None, gpu_id=None, grow_policy=None, importance_type=None,\n",
       "             interaction_constraints=None, learning_rate=0.12, max_bin=None,\n",
       "             max_cat_threshold=None, max_cat_to_onehot=None,\n",
       "             max_delta_step=None, max_depth=None, max_leaves=None,\n",
       "             min_child_weight=None, missing=nan, monotone_constraints=None,\n",
       "             n_estimators=100, n_jobs=None, num_parallel_tree=None,\n",
       "             predictor=None, random_state=None, ...)</pre><b>In a Jupyter environment, please rerun this cell to show the HTML representation or trust the notebook. <br />On GitHub, the HTML representation is unable to render, please try loading this page with nbviewer.org.</b></div><div class=\"sk-container\" hidden><div class=\"sk-item\"><div class=\"sk-estimator sk-toggleable\"><input class=\"sk-toggleable__control sk-hidden--visually\" id=\"sk-estimator-id-1\" type=\"checkbox\" checked><label for=\"sk-estimator-id-1\" class=\"sk-toggleable__label sk-toggleable__label-arrow\">XGBRegressor</label><div class=\"sk-toggleable__content\"><pre>XGBRegressor(base_score=None, booster=None, callbacks=None,\n",
       "             colsample_bylevel=None, colsample_bynode=None,\n",
       "             colsample_bytree=None, early_stopping_rounds=None,\n",
       "             enable_categorical=False, eval_metric=None, feature_types=None,\n",
       "             gamma=None, gpu_id=None, grow_policy=None, importance_type=None,\n",
       "             interaction_constraints=None, learning_rate=0.12, max_bin=None,\n",
       "             max_cat_threshold=None, max_cat_to_onehot=None,\n",
       "             max_delta_step=None, max_depth=None, max_leaves=None,\n",
       "             min_child_weight=None, missing=nan, monotone_constraints=None,\n",
       "             n_estimators=100, n_jobs=None, num_parallel_tree=None,\n",
       "             predictor=None, random_state=None, ...)</pre></div></div></div></div></div>"
      ],
      "text/plain": [
       "XGBRegressor(base_score=None, booster=None, callbacks=None,\n",
       "             colsample_bylevel=None, colsample_bynode=None,\n",
       "             colsample_bytree=None, early_stopping_rounds=None,\n",
       "             enable_categorical=False, eval_metric=None, feature_types=None,\n",
       "             gamma=None, gpu_id=None, grow_policy=None, importance_type=None,\n",
       "             interaction_constraints=None, learning_rate=0.12, max_bin=None,\n",
       "             max_cat_threshold=None, max_cat_to_onehot=None,\n",
       "             max_delta_step=None, max_depth=None, max_leaves=None,\n",
       "             min_child_weight=None, missing=nan, monotone_constraints=None,\n",
       "             n_estimators=100, n_jobs=None, num_parallel_tree=None,\n",
       "             predictor=None, random_state=None, ...)"
      ]
     },
     "execution_count": 8,
     "metadata": {},
     "output_type": "execute_result"
    }
   ],
   "source": [
    "from sklearn.linear_model import LinearRegression\n",
    "from sklearn.tree import DecisionTreeRegressor\n",
    "from sklearn.ensemble import RandomForestRegressor\n",
    "import xgboost\n",
    "#model = DecisionTreeRegressor()\n",
    "model=xgboost.XGBRegressor(learning_rate=0.12)\n",
    "#model = RandomForestRegressor()\n",
    "#model = LinearRegression()\n",
    "model.fit(housing_train_tr,Y_label)"
   ]
  },
  {
   "cell_type": "code",
   "execution_count": 9,
   "id": "a8931577",
   "metadata": {},
   "outputs": [],
   "source": [
    "some_data=housing_train.iloc[:100]\n",
    "some_label=Y_label.iloc[:100]"
   ]
  },
  {
   "cell_type": "code",
   "execution_count": 10,
   "id": "b0700960",
   "metadata": {},
   "outputs": [],
   "source": [
    "prepared_data =my_pipeline.fit_transform(some_data)"
   ]
  },
  {
   "cell_type": "code",
   "execution_count": 11,
   "id": "75817a85",
   "metadata": {},
   "outputs": [
    {
     "data": {
      "text/plain": [
       "array([216021.81 , 180335.7  , 224827.7  , 157389.53 , 286006.2  ,\n",
       "       162824.16 , 313949.56 , 232297.38 , 135516.47 , 118316.18 ,\n",
       "       133445.7  , 361362.6  , 142733.92 , 232887.33 , 154419.3  ,\n",
       "       126271.016, 153456.78 , 102859.195, 165245.1  , 127488.75 ,\n",
       "       329905.3  , 135581.92 , 238728.69 , 137345.6  , 142663.6  ,\n",
       "       258397.19 , 127272.99 , 298421.2  , 209503.12 ,  60590.492,\n",
       "        59001.195, 142159.28 , 190506.88 , 175530.34 , 291116.72 ,\n",
       "       318531.22 , 136547.   , 146097.8  , 127506.73 ,  80599.516,\n",
       "       152596.4  , 179462.17 , 139521.08 , 130776.01 , 131256.77 ,\n",
       "       302888.75 , 275368.44 , 254763.55 , 117586.77 , 123300.1  ,\n",
       "       185058.42 , 114890.695, 107295.52 , 395943.47 , 135514.17 ,\n",
       "       161187.88 , 182615.3  , 212756.02 , 444424.62 , 122426.59 ,\n",
       "       178288.8  ,  94597.586, 204810.92 , 144884.52 , 249111.97 ,\n",
       "       348537.4  , 215740.52 , 232862.   ,  76154.54 , 254830.89 ,\n",
       "       280397.44 , 120494.586, 194428.22 , 148060.5  , 112670.51 ,\n",
       "        89193.97 , 117627.07 , 123375.61 , 131173.62 , 116250.73 ,\n",
       "       203722.98 , 176095.97 , 246113.27 , 124145.52 , 177301.55 ,\n",
       "       297357.9  , 189560.16 , 161902.38 ,  83660.12 , 119020.82 ,\n",
       "       100234.89 , 105163.31 , 148949.69 , 155960.9  , 209894.22 ,\n",
       "       185925.56 , 226736.2  , 115611.19 ,  87560.18 , 124489.56 ],\n",
       "      dtype=float32)"
      ]
     },
     "execution_count": 11,
     "metadata": {},
     "output_type": "execute_result"
    }
   ],
   "source": [
    "model.predict(prepared_data)"
   ]
  },
  {
   "cell_type": "markdown",
   "id": "1e824c3f",
   "metadata": {},
   "source": [
    "some_label"
   ]
  },
  {
   "cell_type": "code",
   "execution_count": 12,
   "id": "f4ec4ff4",
   "metadata": {},
   "outputs": [],
   "source": [
    "from sklearn.metrics import mean_squared_error\n",
    "import numpy as np\n",
    "housing_predictions = model.predict(housing_train_tr)\n",
    "lin_mse = mean_squared_error(Y_label,housing_predictions)\n",
    "mse=np.sqrt(lin_mse)"
   ]
  },
  {
   "cell_type": "code",
   "execution_count": 13,
   "id": "93a7a871",
   "metadata": {},
   "outputs": [
    {
     "data": {
      "text/plain": [
       "5362.012819208833"
      ]
     },
     "execution_count": 13,
     "metadata": {},
     "output_type": "execute_result"
    }
   ],
   "source": [
    "mse"
   ]
  },
  {
   "cell_type": "code",
   "execution_count": 14,
   "id": "815c2788",
   "metadata": {},
   "outputs": [],
   "source": [
    "from sklearn.model_selection import cross_val_score\n",
    "scores = cross_val_score(model, housing_train_tr,Y_label,scoring=\"neg_mean_squared_error\",cv=10)\n",
    "rsme_scores=np.sqrt(-scores)"
   ]
  },
  {
   "cell_type": "code",
   "execution_count": 15,
   "id": "99b45f2b",
   "metadata": {},
   "outputs": [
    {
     "data": {
      "text/plain": [
       "array([22651.22305137, 25875.87469137, 21420.35714047, 40946.8520479 ,\n",
       "       28951.75603502, 26491.40684343, 24666.10278891, 20180.94055236,\n",
       "       28588.11630181, 27243.20156616])"
      ]
     },
     "execution_count": 15,
     "metadata": {},
     "output_type": "execute_result"
    }
   ],
   "source": [
    "rsme_scores"
   ]
  },
  {
   "cell_type": "code",
   "execution_count": 16,
   "id": "6eace98b",
   "metadata": {},
   "outputs": [
    {
     "name": "stdout",
     "output_type": "stream",
     "text": [
      "mean: 26701.583101880744\n",
      "std dev: 5509.337670219389\n"
     ]
    }
   ],
   "source": [
    "print(\"mean:\", rsme_scores.mean())\n",
    "print(\"std dev:\", rsme_scores.std())"
   ]
  },
  {
   "cell_type": "code",
   "execution_count": 17,
   "id": "440ee754",
   "metadata": {},
   "outputs": [],
   "source": [
    "y_pred=model.predict(housing_test_tr)"
   ]
  },
  {
   "cell_type": "code",
   "execution_count": 18,
   "id": "e31e916f",
   "metadata": {},
   "outputs": [
    {
     "name": "stderr",
     "output_type": "stream",
     "text": [
      "/tmp/ipykernel_65435/1823082986.py:4: UserWarning: Pandas doesn't allow columns to be created via a new attribute name - see https://pandas.pydata.org/pandas-docs/stable/indexing.html#attribute-access\n",
      "  datasets.column=[['Id','SalePrice']]\n"
     ]
    }
   ],
   "source": [
    "pred=pd.DataFrame(y_pred)\n",
    "sub_df=pd.read_csv('sample_submission.csv')\n",
    "datasets=pd.concat([sub_df['Id'],pred], axis=1)\n",
    "datasets.column=[['Id','SalePrice']]\n",
    "datasets.to_csv('sample_submission2.csv', index=False)"
   ]
  },
  {
   "cell_type": "markdown",
   "id": "eeb986a3",
   "metadata": {},
   "source": [
    "0.12\n",
    "mean: 26701.583101880744\n",
    "std dev: 5509.337670219389"
   ]
  }
 ],
 "metadata": {
  "kernelspec": {
   "display_name": "Python 3 (ipykernel)",
   "language": "python",
   "name": "python3"
  },
  "language_info": {
   "codemirror_mode": {
    "name": "ipython",
    "version": 3
   },
   "file_extension": ".py",
   "mimetype": "text/x-python",
   "name": "python",
   "nbconvert_exporter": "python",
   "pygments_lexer": "ipython3",
   "version": "3.10.6"
  }
 },
 "nbformat": 4,
 "nbformat_minor": 5
}
