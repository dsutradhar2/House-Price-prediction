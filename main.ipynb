{
 "cells": [
  {
   "cell_type": "markdown",
   "id": "04305ebe",
   "metadata": {},
   "source": [
    "# import all required libraries"
   ]
  },
  {
   "cell_type": "code",
   "execution_count": 1,
   "id": "f584d0c5",
   "metadata": {},
   "outputs": [],
   "source": [
    "import pandas as pd\n",
    "import matplotlib.pyplot as plt\n",
    "from sklearn.compose import ColumnTransformer\n",
    "from sklearn.preprocessing import OneHotEncoder\n",
    "from sklearn.preprocessing import OrdinalEncoder"
   ]
  },
  {
   "cell_type": "markdown",
   "id": "34e891e4",
   "metadata": {},
   "source": [
    "# Load data from csv file"
   ]
  },
  {
   "cell_type": "code",
   "execution_count": 2,
   "id": "83b7ff7e",
   "metadata": {},
   "outputs": [],
   "source": [
    "housing_train = pd.read_csv('train.csv')\n",
    "housing_test = pd.read_csv('test.csv')\n",
    "housing_train.drop('Id', axis=1, inplace=True)\n",
    "housing_test.drop('Id', axis=1, inplace=True)"
   ]
  },
  {
   "cell_type": "markdown",
   "id": "1e60aefe",
   "metadata": {},
   "source": [
    "# Feature Engineering"
   ]
  },
  {
   "cell_type": "markdown",
   "id": "c40dec18",
   "metadata": {},
   "source": [
    "## Fill empty data"
   ]
  },
  {
   "cell_type": "markdown",
   "id": "63acf539",
   "metadata": {},
   "source": [
    "### Fill empty train set"
   ]
  },
  {
   "cell_type": "code",
   "execution_count": 3,
   "id": "c664c64d",
   "metadata": {},
   "outputs": [
    {
     "name": "stdout",
     "output_type": "stream",
     "text": [
      "RL         1151\n",
      "RM          218\n",
      "FV           65\n",
      "RH           16\n",
      "C (all)      10\n",
      "Name: MSZoning, dtype: int64\n"
     ]
    }
   ],
   "source": [
    "housing_train[\"GarageYrBlt\"].fillna(0, inplace=True)\n",
    "housing_train[\"MasVnrArea\"].fillna(0, inplace=True)\n",
    "housing_train[\"LotFrontage\"].fillna(0, inplace=True)\n",
    "housing_train[\"Alley\"].fillna('None', inplace=True)\n",
    "housing_train[\"MasVnrType\"].fillna('None', inplace=True)\n",
    "housing_train[\"BsmtQual\"].fillna('None', inplace=True)\n",
    "housing_train[\"BsmtCond\"].fillna('None', inplace=True)\n",
    "housing_train[\"BsmtExposure\"].fillna('None', inplace=True)\n",
    "housing_train[\"BsmtFinType1\"].fillna('None', inplace=True)\n",
    "housing_train[\"BsmtFinType2\"].fillna('None', inplace=True)\n",
    "housing_train[\"Electrical\"].fillna(housing_train[\"Electrical\"].mode()[0], inplace=True)\n",
    "housing_train[\"FireplaceQu\"].fillna('None', inplace=True)\n",
    "housing_train[\"GarageType\"].fillna('None', inplace=True)\n",
    "housing_train[\"GarageFinish\"].fillna('None', inplace=True)\n",
    "housing_train[\"GarageQual\"].fillna('None', inplace=True)\n",
    "housing_train[\"GarageCond\"].fillna('None', inplace=True)\n",
    "housing_train[\"PoolQC\"].fillna('None', inplace=True)\n",
    "housing_train[\"Fence\"].fillna('None', inplace=True)\n",
    "housing_train[\"MiscFeature\"].fillna('None', inplace=True)\n",
    "print(housing_train['MSZoning'].value_counts())"
   ]
  },
  {
   "cell_type": "markdown",
   "id": "dcbc4951",
   "metadata": {},
   "source": [
    "### Fill empty test set"
   ]
  },
  {
   "cell_type": "code",
   "execution_count": 4,
   "id": "6461caed",
   "metadata": {},
   "outputs": [
    {
     "name": "stdout",
     "output_type": "stream",
     "text": [
      "WD       1259\n",
      "New       117\n",
      "COD        44\n",
      "ConLD      17\n",
      "CWD         8\n",
      "Oth         4\n",
      "ConLI       4\n",
      "Con         3\n",
      "ConLw       3\n",
      "Name: SaleType, dtype: int64\n",
      "0\n",
      "<class 'pandas.core.frame.DataFrame'>\n",
      "RangeIndex: 1459 entries, 0 to 1458\n",
      "Data columns (total 79 columns):\n",
      " #   Column         Non-Null Count  Dtype  \n",
      "---  ------         --------------  -----  \n",
      " 0   MSSubClass     1459 non-null   int64  \n",
      " 1   MSZoning       1459 non-null   object \n",
      " 2   LotFrontage    1459 non-null   float64\n",
      " 3   LotArea        1459 non-null   int64  \n",
      " 4   Street         1459 non-null   object \n",
      " 5   Alley          1459 non-null   object \n",
      " 6   LotShape       1459 non-null   object \n",
      " 7   LandContour    1459 non-null   object \n",
      " 8   Utilities      1459 non-null   object \n",
      " 9   LotConfig      1459 non-null   object \n",
      " 10  LandSlope      1459 non-null   object \n",
      " 11  Neighborhood   1459 non-null   object \n",
      " 12  Condition1     1459 non-null   object \n",
      " 13  Condition2     1459 non-null   object \n",
      " 14  BldgType       1459 non-null   object \n",
      " 15  HouseStyle     1459 non-null   object \n",
      " 16  OverallQual    1459 non-null   int64  \n",
      " 17  OverallCond    1459 non-null   int64  \n",
      " 18  YearBuilt      1459 non-null   int64  \n",
      " 19  YearRemodAdd   1459 non-null   int64  \n",
      " 20  RoofStyle      1459 non-null   object \n",
      " 21  RoofMatl       1459 non-null   object \n",
      " 22  Exterior1st    1459 non-null   object \n",
      " 23  Exterior2nd    1459 non-null   object \n",
      " 24  MasVnrType     1459 non-null   object \n",
      " 25  MasVnrArea     1459 non-null   float64\n",
      " 26  ExterQual      1459 non-null   object \n",
      " 27  ExterCond      1459 non-null   object \n",
      " 28  Foundation     1459 non-null   object \n",
      " 29  BsmtQual       1459 non-null   object \n",
      " 30  BsmtCond       1459 non-null   object \n",
      " 31  BsmtExposure   1459 non-null   object \n",
      " 32  BsmtFinType1   1459 non-null   object \n",
      " 33  BsmtFinSF1     1459 non-null   float64\n",
      " 34  BsmtFinType2   1459 non-null   object \n",
      " 35  BsmtFinSF2     1459 non-null   float64\n",
      " 36  BsmtUnfSF      1459 non-null   float64\n",
      " 37  TotalBsmtSF    1459 non-null   float64\n",
      " 38  Heating        1459 non-null   object \n",
      " 39  HeatingQC      1459 non-null   object \n",
      " 40  CentralAir     1459 non-null   object \n",
      " 41  Electrical     1459 non-null   object \n",
      " 42  1stFlrSF       1459 non-null   int64  \n",
      " 43  2ndFlrSF       1459 non-null   int64  \n",
      " 44  LowQualFinSF   1459 non-null   int64  \n",
      " 45  GrLivArea      1459 non-null   int64  \n",
      " 46  BsmtFullBath   1459 non-null   float64\n",
      " 47  BsmtHalfBath   1459 non-null   float64\n",
      " 48  FullBath       1459 non-null   int64  \n",
      " 49  HalfBath       1459 non-null   int64  \n",
      " 50  BedroomAbvGr   1459 non-null   int64  \n",
      " 51  KitchenAbvGr   1459 non-null   int64  \n",
      " 52  KitchenQual    1459 non-null   object \n",
      " 53  TotRmsAbvGrd   1459 non-null   int64  \n",
      " 54  Functional     1459 non-null   object \n",
      " 55  Fireplaces     1459 non-null   int64  \n",
      " 56  FireplaceQu    1459 non-null   object \n",
      " 57  GarageType     1459 non-null   object \n",
      " 58  GarageYrBlt    1459 non-null   float64\n",
      " 59  GarageFinish   1459 non-null   object \n",
      " 60  GarageCars     1459 non-null   float64\n",
      " 61  GarageArea     1459 non-null   float64\n",
      " 62  GarageQual     1459 non-null   object \n",
      " 63  GarageCond     1459 non-null   object \n",
      " 64  PavedDrive     1459 non-null   object \n",
      " 65  WoodDeckSF     1459 non-null   int64  \n",
      " 66  OpenPorchSF    1459 non-null   int64  \n",
      " 67  EnclosedPorch  1459 non-null   int64  \n",
      " 68  3SsnPorch      1459 non-null   int64  \n",
      " 69  ScreenPorch    1459 non-null   int64  \n",
      " 70  PoolArea       1459 non-null   int64  \n",
      " 71  PoolQC         1459 non-null   object \n",
      " 72  Fence          1459 non-null   object \n",
      " 73  MiscFeature    1459 non-null   object \n",
      " 74  MiscVal        1459 non-null   int64  \n",
      " 75  MoSold         1459 non-null   int64  \n",
      " 76  YrSold         1459 non-null   int64  \n",
      " 77  SaleType       1459 non-null   object \n",
      " 78  SaleCondition  1459 non-null   object \n",
      "dtypes: float64(11), int64(25), object(43)\n",
      "memory usage: 900.6+ KB\n"
     ]
    }
   ],
   "source": [
    "housing_test[\"GarageYrBlt\"].fillna(0, inplace=True)\n",
    "housing_test[\"MasVnrArea\"].fillna(0, inplace=True)\n",
    "housing_test[\"LotFrontage\"].fillna(0, inplace=True)\n",
    "housing_test[\"Alley\"].fillna('None', inplace=True)\n",
    "housing_test[\"MasVnrType\"].fillna('None', inplace=True)\n",
    "housing_test[\"BsmtQual\"].fillna('None', inplace=True)\n",
    "housing_test[\"BsmtCond\"].fillna('None', inplace=True)\n",
    "housing_test[\"BsmtExposure\"].fillna('None', inplace=True)\n",
    "housing_test[\"BsmtFinType1\"].fillna('None', inplace=True)\n",
    "housing_test[\"BsmtFinType2\"].fillna('None', inplace=True)\n",
    "housing_test[\"Electrical\"].fillna(housing_test[\"Electrical\"].mode()[0], inplace=True)\n",
    "housing_test[\"FireplaceQu\"].fillna('None', inplace=True)\n",
    "housing_test[\"GarageType\"].fillna('None', inplace=True)\n",
    "housing_test[\"GarageFinish\"].fillna('None', inplace=True)\n",
    "housing_test[\"GarageQual\"].fillna('None', inplace=True)\n",
    "housing_test[\"GarageCond\"].fillna('None', inplace=True)\n",
    "housing_test[\"PoolQC\"].fillna('None', inplace=True)\n",
    "housing_test[\"Fence\"].fillna('None', inplace=True)\n",
    "housing_test[\"MiscFeature\"].fillna('None', inplace=True)\n",
    "housing_test[\"MSZoning\"].fillna(housing_test[\"MSZoning\"].mode()[0], inplace=True)\n",
    "housing_test[\"Utilities\"].fillna(housing_test[\"Utilities\"].mode()[0], inplace=True)\n",
    "housing_test[\"Exterior1st\"].fillna(housing_test[\"Exterior1st\"].mode()[0], inplace=True)\n",
    "housing_test[\"Exterior2nd\"].fillna(housing_test[\"Exterior2nd\"].mode()[0], inplace=True)\n",
    "housing_test[\"BsmtFinSF2\"].fillna(housing_test[\"BsmtFinSF2\"].mean(), inplace=True)\n",
    "housing_test[\"BsmtUnfSF\"].fillna(housing_test[\"BsmtUnfSF\"].mean(), inplace=True)\n",
    "housing_test[\"TotalBsmtSF\"].fillna(housing_test[\"TotalBsmtSF\"].mean(), inplace=True)\n",
    "housing_test[\"BsmtFinSF1\"].fillna(housing_test[\"BsmtFinSF1\"].mean(), inplace=True)\n",
    "housing_test[\"BsmtFullBath\"].fillna(housing_test[\"BsmtFullBath\"].mode()[0], inplace=True)\n",
    "housing_test[\"BsmtHalfBath\"].fillna(housing_test[\"BsmtHalfBath\"].mode()[0], inplace=True)\n",
    "housing_test[\"KitchenQual\"].fillna(housing_test[\"KitchenQual\"].mode()[0], inplace=True)\n",
    "housing_test[\"GarageArea\"].fillna(0, inplace=True)\n",
    "housing_test[\"GarageCars\"].fillna(0, inplace=True)\n",
    "housing_test[\"Functional\"].fillna(housing_test[\"Functional\"].mode()[0], inplace=True)\n",
    "housing_test[\"SaleType\"].fillna(housing_test[\"SaleType\"].mode()[0], inplace=True)\n",
    "print(housing_test['SaleType'].value_counts())\n",
    "print(housing_test['SaleType'].isnull().sum())\n",
    "housing_test.info()"
   ]
  },
  {
   "cell_type": "markdown",
   "id": "cee1ef5f",
   "metadata": {
    "scrolled": true
   },
   "source": [
    "## Handle categorical data"
   ]
  },
  {
   "cell_type": "markdown",
   "id": "1a113ae2",
   "metadata": {},
   "source": [
    "### Ordinal encoder and One hot encoder"
   ]
  },
  {
   "cell_type": "code",
   "execution_count": 5,
   "id": "c9fe02e4",
   "metadata": {
    "scrolled": true
   },
   "outputs": [],
   "source": [
    "column_transformer = ColumnTransformer(transformers=[(\"OE\", OrdinalEncoder(categories=[\n",
    "                                                                                         ['ELO','NoSeWa','NoSewr','AllPub'],\n",
    "                                                                                         ['Sev', 'Mod','Gtl'],\n",
    "                                                                                         ['Po','Fa','TA','Gd','Ex'],\n",
    "                                                                                         ['Po','Fa','TA','Gd','Ex'],\n",
    "                                                                                         ['None','Po','Fa','TA','Gd','Ex'],\n",
    "                                                                                         ['None','Po','Fa','TA','Gd','Ex'],\n",
    "                                                                                         ['None','No','Mn','Av','Gd'],\n",
    "                                                                                         ['None','Unf','LwQ','Rec','BLQ','ALQ','GLQ'],\n",
    "                                                                                         ['None','Unf','LwQ','Rec','BLQ','ALQ','GLQ'],\n",
    "                                                                                         ['Po','Fa','TA','Gd','Ex'],\n",
    "                                                                                         ['N','Y'],\n",
    "                                                                                         ['Po','Fa','TA','Gd','Ex'],\n",
    "                                                                                         ['Sal','Sev','Maj2','Maj1','Mod','Min2','Min1','Typ'],\n",
    "                                                                                         ['None','Po','Fa','TA','Gd','Ex'],\n",
    "                                                                                         ['None','Detchd','CarPort','BuiltIn','Basment','Attchd','2Types'],\n",
    "                                                                                         ['None','Unf','RFn','Fin'],\n",
    "                                                                                         ['None','Po','Fa','TA','Gd','Ex'],\n",
    "                                                                                         ['None','Po','Fa','TA','Gd','Ex'],\n",
    "                                                                                         ['N','P','Y'],\n",
    "                                                                                         ['None','Po','Fa','TA','Gd','Ex'],\n",
    "                                                                                         ['None','MnWw','GdWo','MnPrv','GdPrv']\n",
    "                                                                                      ]\n",
    "                                                                           ), \n",
    "                                                       ['Utilities', 'LandSlope', 'ExterQual', 'ExterCond', 'BsmtQual', 'BsmtCond', 'BsmtExposure', 'BsmtFinType1', 'BsmtFinType2', 'HeatingQC', 'CentralAir', 'KitchenQual', 'Functional', 'FireplaceQu', 'GarageType', 'GarageFinish', 'GarageQual','GarageCond', 'PavedDrive', 'PoolQC','Fence']\n",
    "                                                     ),\n",
    "                                                    ('OHE', OneHotEncoder(sparse_output=False, drop='first'), ['MSSubClass','MSZoning','Street','Alley','LotShape','LandContour','LotConfig','Neighborhood','Condition1','Condition2','BldgType','HouseStyle','RoofStyle','RoofMatl','Exterior1st','Exterior2nd','MasVnrType','Foundation','Heating','Electrical','MiscFeature','SaleType','SaleCondition'])], remainder='passthrough')\n",
    "column_transformer.set_output(transform='pandas')\n",
    "housing_train_trans = column_transformer.fit_transform(housing_train)\n",
    "housing_test_trans = column_transformer.fit_transform(housing_test)"
   ]
  },
  {
   "cell_type": "code",
   "execution_count": 6,
   "id": "04163949",
   "metadata": {},
   "outputs": [],
   "source": [
    "final_housing_train = housing_train_trans.drop(['remainder__SalePrice'], axis=1)\n",
    "Y_label =  housing_train_trans['remainder__SalePrice']"
   ]
  },
  {
   "cell_type": "code",
   "execution_count": 7,
   "id": "76969652",
   "metadata": {},
   "outputs": [],
   "source": [
    "from sklearn.pipeline import Pipeline\n",
    "from sklearn.preprocessing import StandardScaler\n",
    "from sklearn.impute import SimpleImputer\n",
    "my_pipeline = Pipeline([('scaler', StandardScaler())])"
   ]
  },
  {
   "cell_type": "code",
   "execution_count": 8,
   "id": "28a5a73f",
   "metadata": {},
   "outputs": [],
   "source": [
    "housing_num_tr = my_pipeline.fit_transform(final_housing_train)"
   ]
  },
  {
   "cell_type": "code",
   "execution_count": 9,
   "id": "4088af71",
   "metadata": {
    "scrolled": true
   },
   "outputs": [
    {
     "data": {
      "text/html": [
       "<style>#sk-container-id-1 {color: black;background-color: white;}#sk-container-id-1 pre{padding: 0;}#sk-container-id-1 div.sk-toggleable {background-color: white;}#sk-container-id-1 label.sk-toggleable__label {cursor: pointer;display: block;width: 100%;margin-bottom: 0;padding: 0.3em;box-sizing: border-box;text-align: center;}#sk-container-id-1 label.sk-toggleable__label-arrow:before {content: \"▸\";float: left;margin-right: 0.25em;color: #696969;}#sk-container-id-1 label.sk-toggleable__label-arrow:hover:before {color: black;}#sk-container-id-1 div.sk-estimator:hover label.sk-toggleable__label-arrow:before {color: black;}#sk-container-id-1 div.sk-toggleable__content {max-height: 0;max-width: 0;overflow: hidden;text-align: left;background-color: #f0f8ff;}#sk-container-id-1 div.sk-toggleable__content pre {margin: 0.2em;color: black;border-radius: 0.25em;background-color: #f0f8ff;}#sk-container-id-1 input.sk-toggleable__control:checked~div.sk-toggleable__content {max-height: 200px;max-width: 100%;overflow: auto;}#sk-container-id-1 input.sk-toggleable__control:checked~label.sk-toggleable__label-arrow:before {content: \"▾\";}#sk-container-id-1 div.sk-estimator input.sk-toggleable__control:checked~label.sk-toggleable__label {background-color: #d4ebff;}#sk-container-id-1 div.sk-label input.sk-toggleable__control:checked~label.sk-toggleable__label {background-color: #d4ebff;}#sk-container-id-1 input.sk-hidden--visually {border: 0;clip: rect(1px 1px 1px 1px);clip: rect(1px, 1px, 1px, 1px);height: 1px;margin: -1px;overflow: hidden;padding: 0;position: absolute;width: 1px;}#sk-container-id-1 div.sk-estimator {font-family: monospace;background-color: #f0f8ff;border: 1px dotted black;border-radius: 0.25em;box-sizing: border-box;margin-bottom: 0.5em;}#sk-container-id-1 div.sk-estimator:hover {background-color: #d4ebff;}#sk-container-id-1 div.sk-parallel-item::after {content: \"\";width: 100%;border-bottom: 1px solid gray;flex-grow: 1;}#sk-container-id-1 div.sk-label:hover label.sk-toggleable__label {background-color: #d4ebff;}#sk-container-id-1 div.sk-serial::before {content: \"\";position: absolute;border-left: 1px solid gray;box-sizing: border-box;top: 0;bottom: 0;left: 50%;z-index: 0;}#sk-container-id-1 div.sk-serial {display: flex;flex-direction: column;align-items: center;background-color: white;padding-right: 0.2em;padding-left: 0.2em;position: relative;}#sk-container-id-1 div.sk-item {position: relative;z-index: 1;}#sk-container-id-1 div.sk-parallel {display: flex;align-items: stretch;justify-content: center;background-color: white;position: relative;}#sk-container-id-1 div.sk-item::before, #sk-container-id-1 div.sk-parallel-item::before {content: \"\";position: absolute;border-left: 1px solid gray;box-sizing: border-box;top: 0;bottom: 0;left: 50%;z-index: -1;}#sk-container-id-1 div.sk-parallel-item {display: flex;flex-direction: column;z-index: 1;position: relative;background-color: white;}#sk-container-id-1 div.sk-parallel-item:first-child::after {align-self: flex-end;width: 50%;}#sk-container-id-1 div.sk-parallel-item:last-child::after {align-self: flex-start;width: 50%;}#sk-container-id-1 div.sk-parallel-item:only-child::after {width: 0;}#sk-container-id-1 div.sk-dashed-wrapped {border: 1px dashed gray;margin: 0 0.4em 0.5em 0.4em;box-sizing: border-box;padding-bottom: 0.4em;background-color: white;}#sk-container-id-1 div.sk-label label {font-family: monospace;font-weight: bold;display: inline-block;line-height: 1.2em;}#sk-container-id-1 div.sk-label-container {text-align: center;}#sk-container-id-1 div.sk-container {/* jupyter's `normalize.less` sets `[hidden] { display: none; }` but bootstrap.min.css set `[hidden] { display: none !important; }` so we also need the `!important` here to be able to override the default hidden behavior on the sphinx rendered scikit-learn.org. See: https://github.com/scikit-learn/scikit-learn/issues/21755 */display: inline-block !important;position: relative;}#sk-container-id-1 div.sk-text-repr-fallback {display: none;}</style><div id=\"sk-container-id-1\" class=\"sk-top-container\"><div class=\"sk-text-repr-fallback\"><pre>DecisionTreeRegressor()</pre><b>In a Jupyter environment, please rerun this cell to show the HTML representation or trust the notebook. <br />On GitHub, the HTML representation is unable to render, please try loading this page with nbviewer.org.</b></div><div class=\"sk-container\" hidden><div class=\"sk-item\"><div class=\"sk-estimator sk-toggleable\"><input class=\"sk-toggleable__control sk-hidden--visually\" id=\"sk-estimator-id-1\" type=\"checkbox\" checked><label for=\"sk-estimator-id-1\" class=\"sk-toggleable__label sk-toggleable__label-arrow\">DecisionTreeRegressor</label><div class=\"sk-toggleable__content\"><pre>DecisionTreeRegressor()</pre></div></div></div></div></div>"
      ],
      "text/plain": [
       "DecisionTreeRegressor()"
      ]
     },
     "execution_count": 9,
     "metadata": {},
     "output_type": "execute_result"
    }
   ],
   "source": [
    "from sklearn.linear_model import LinearRegression\n",
    "from sklearn.tree import DecisionTreeRegressor\n",
    "from sklearn.ensemble import RandomForestRegressor\n",
    "model = DecisionTreeRegressor()\n",
    "#model = RandomForestRegressor()\n",
    "#model = LinearRegression()\n",
    "model.fit(housing_num_tr,Y_label)"
   ]
  },
  {
   "cell_type": "code",
   "execution_count": 10,
   "id": "11b36f65",
   "metadata": {},
   "outputs": [],
   "source": [
    "some_data=final_housing_train.iloc[:100]\n",
    "some_label=Y_label.iloc[:100]"
   ]
  },
  {
   "cell_type": "code",
   "execution_count": 11,
   "id": "a7bd99ca",
   "metadata": {},
   "outputs": [],
   "source": [
    "prepared_data =my_pipeline.transform(some_data)"
   ]
  },
  {
   "cell_type": "code",
   "execution_count": 12,
   "id": "0fea6896",
   "metadata": {
    "scrolled": true
   },
   "outputs": [
    {
     "data": {
      "text/plain": [
       "array([208500., 181500., 223500., 140000., 250000., 143000., 307000.,\n",
       "       200000., 129900., 118000., 129500., 345000., 144000., 279500.,\n",
       "       157000., 132000., 149000.,  90000., 159000., 139000., 325300.,\n",
       "       139400., 230000., 129900., 154000., 256300., 134800., 306000.,\n",
       "       207500.,  68500.,  40000., 149350., 179900., 165500., 277500.,\n",
       "       309000., 145000., 153000., 109000.,  82000., 160000., 170000.,\n",
       "       144000., 130250., 141000., 319900., 239686., 249700., 113000.,\n",
       "       127000., 177000., 114500., 110000., 385000., 130000., 180500.,\n",
       "       172500., 196500., 438780., 124900., 158000., 101000., 202500.,\n",
       "       140000., 219500., 317000., 180000., 226000.,  80000., 225000.,\n",
       "       244000., 129500., 185000., 144900., 107400.,  91000., 135750.,\n",
       "       127000., 136500., 110000., 193500., 153500., 245000., 126500.,\n",
       "       168500., 260000., 174000., 164500.,  85000., 123600., 109900.,\n",
       "        98600., 163500., 133900., 204750., 185000., 214000.,  94750.,\n",
       "        83000., 128950.])"
      ]
     },
     "execution_count": 12,
     "metadata": {},
     "output_type": "execute_result"
    }
   ],
   "source": [
    "model.predict(prepared_data)"
   ]
  },
  {
   "cell_type": "code",
   "execution_count": 13,
   "id": "e05a208e",
   "metadata": {},
   "outputs": [
    {
     "data": {
      "text/plain": [
       "0     208500\n",
       "1     181500\n",
       "2     223500\n",
       "3     140000\n",
       "4     250000\n",
       "       ...  \n",
       "95    185000\n",
       "96    214000\n",
       "97     94750\n",
       "98     83000\n",
       "99    128950\n",
       "Name: remainder__SalePrice, Length: 100, dtype: int64"
      ]
     },
     "execution_count": 13,
     "metadata": {},
     "output_type": "execute_result"
    }
   ],
   "source": [
    "some_label"
   ]
  },
  {
   "cell_type": "code",
   "execution_count": 14,
   "id": "f4ec4ff4",
   "metadata": {},
   "outputs": [],
   "source": [
    "from sklearn.metrics import mean_squared_error\n",
    "import numpy as np\n",
    "housing_predictions = model.predict(housing_num_tr)\n",
    "lin_mse = mean_squared_error(Y_label,housing_predictions)\n",
    "mse=np.sqrt(lin_mse)"
   ]
  },
  {
   "cell_type": "code",
   "execution_count": 15,
   "id": "93a7a871",
   "metadata": {},
   "outputs": [
    {
     "data": {
      "text/plain": [
       "0.0"
      ]
     },
     "execution_count": 15,
     "metadata": {},
     "output_type": "execute_result"
    }
   ],
   "source": [
    "mse"
   ]
  },
  {
   "cell_type": "code",
   "execution_count": 16,
   "id": "815c2788",
   "metadata": {},
   "outputs": [],
   "source": [
    "from sklearn.model_selection import cross_val_score\n",
    "scores = cross_val_score(model, housing_num_tr,Y_label,scoring=\"neg_mean_squared_error\",cv=10)\n",
    "rsme_scores=np.sqrt(-scores)"
   ]
  },
  {
   "cell_type": "code",
   "execution_count": 17,
   "id": "99b45f2b",
   "metadata": {},
   "outputs": [
    {
     "data": {
      "text/plain": [
       "array([37249.92074709, 39261.2398147 , 37094.09387708, 42934.48014676,\n",
       "       40039.45290371, 28205.46332316, 32761.93092433, 33302.62787741,\n",
       "       57333.96128387, 37526.1067149 ])"
      ]
     },
     "execution_count": 17,
     "metadata": {},
     "output_type": "execute_result"
    }
   ],
   "source": [
    "rsme_scores"
   ]
  },
  {
   "cell_type": "code",
   "execution_count": 18,
   "id": "6eace98b",
   "metadata": {},
   "outputs": [
    {
     "name": "stdout",
     "output_type": "stream",
     "text": [
      "mean: 38570.9277613008\n",
      "std dev: 7400.575268340803\n"
     ]
    }
   ],
   "source": [
    "print(\"mean:\", rsme_scores.mean())\n",
    "print(\"std dev:\", rsme_scores.std())"
   ]
  },
  {
   "cell_type": "code",
   "execution_count": 19,
   "id": "f0b7058e",
   "metadata": {},
   "outputs": [
    {
     "data": {
      "text/plain": [
       "(1459, 198)"
      ]
     },
     "execution_count": 19,
     "metadata": {},
     "output_type": "execute_result"
    }
   ],
   "source": [
    "housing_test_trans.shape"
   ]
  },
  {
   "cell_type": "code",
   "execution_count": 20,
   "id": "d984025f",
   "metadata": {},
   "outputs": [
    {
     "data": {
      "text/plain": [
       "(1460, 213)"
      ]
     },
     "execution_count": 20,
     "metadata": {},
     "output_type": "execute_result"
    }
   ],
   "source": [
    "housing_train_trans.shape"
   ]
  },
  {
   "cell_type": "code",
   "execution_count": null,
   "id": "a0ee26e4",
   "metadata": {},
   "outputs": [],
   "source": []
  }
 ],
 "metadata": {
  "kernelspec": {
   "display_name": "Python 3 (ipykernel)",
   "language": "python",
   "name": "python3"
  },
  "language_info": {
   "codemirror_mode": {
    "name": "ipython",
    "version": 3
   },
   "file_extension": ".py",
   "mimetype": "text/x-python",
   "name": "python",
   "nbconvert_exporter": "python",
   "pygments_lexer": "ipython3",
   "version": "3.10.6"
  }
 },
 "nbformat": 4,
 "nbformat_minor": 5
}
