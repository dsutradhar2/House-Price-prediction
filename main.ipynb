{
 "cells": [
  {
   "cell_type": "code",
   "execution_count": 1,
   "id": "f584d0c5",
   "metadata": {},
   "outputs": [],
   "source": [
    "import pandas as pd\n",
    "import matplotlib.pyplot as plt"
   ]
  },
  {
   "cell_type": "code",
   "execution_count": 18,
   "id": "c664c64d",
   "metadata": {},
   "outputs": [
    {
     "name": "stdout",
     "output_type": "stream",
     "text": [
      "<class 'pandas.core.frame.DataFrame'>\n",
      "RangeIndex: 1460 entries, 0 to 1459\n",
      "Data columns (total 13 columns):\n",
      " #   Column        Non-Null Count  Dtype  \n",
      "---  ------        --------------  -----  \n",
      " 0   OverallQual   1460 non-null   int64  \n",
      " 1   GrLivArea     1460 non-null   int64  \n",
      " 2   GarageCars    1460 non-null   int64  \n",
      " 3   GarageArea    1460 non-null   int64  \n",
      " 4   TotalBsmtSF   1460 non-null   int64  \n",
      " 5   1stFlrSF      1460 non-null   int64  \n",
      " 6   FullBath      1460 non-null   int64  \n",
      " 7   TotRmsAbvGrd  1460 non-null   int64  \n",
      " 8   YearBuilt     1460 non-null   int64  \n",
      " 9   YearRemodAdd  1460 non-null   int64  \n",
      " 10  MasVnrArea    1460 non-null   float64\n",
      " 11  Fireplaces    1460 non-null   int64  \n",
      " 12  BsmtFinSF1    1460 non-null   int64  \n",
      "dtypes: float64(1), int64(12)\n",
      "memory usage: 148.4 KB\n"
     ]
    }
   ],
   "source": [
    "housing_train = pd.read_csv('train.csv')\n",
    "housing_test = pd.read_csv('test.csv')\n",
    "housing_train[\"GarageYrBlt\"].fillna(0, inplace=True)\n",
    "housing_train[\"MasVnrArea\"].fillna(0, inplace=True)\n",
    "#housing_train.info()\n",
    "X= housing_train[['OverallQual', 'GrLivArea','GarageCars','GarageArea','TotalBsmtSF','1stFlrSF','FullBath','TotRmsAbvGrd','YearBuilt','YearRemodAdd','MasVnrArea','Fireplaces','BsmtFinSF1']]\n",
    "Y=housing_train['SalePrice'].copy()\n",
    "X.info()"
   ]
  },
  {
   "cell_type": "code",
   "execution_count": 3,
   "id": "e8b90fd0",
   "metadata": {
    "scrolled": false
   },
   "outputs": [],
   "source": [
    "#housing_train.describe()"
   ]
  },
  {
   "cell_type": "code",
   "execution_count": 4,
   "id": "996bedaa",
   "metadata": {},
   "outputs": [],
   "source": [
    "#%matplotlib inline"
   ]
  },
  {
   "cell_type": "code",
   "execution_count": 5,
   "id": "c9fe02e4",
   "metadata": {},
   "outputs": [],
   "source": [
    "#corr_matrix = housing_train.corr()\n",
    "#corr_matrix[\"SalePrice\"].sort_values(ascending=False)"
   ]
  },
  {
   "cell_type": "code",
   "execution_count": 6,
   "id": "76969652",
   "metadata": {},
   "outputs": [],
   "source": [
    "from sklearn.pipeline import Pipeline\n",
    "from sklearn.preprocessing import StandardScaler\n",
    "from sklearn.impute import SimpleImputer\n",
    "my_pipeline = Pipeline([('imputer', SimpleImputer(strategy=\"median\")),('scaler', StandardScaler())])"
   ]
  },
  {
   "cell_type": "code",
   "execution_count": 7,
   "id": "28a5a73f",
   "metadata": {},
   "outputs": [],
   "source": [
    "housing_num_tr = my_pipeline.fit_transform(X)"
   ]
  },
  {
   "cell_type": "code",
   "execution_count": 8,
   "id": "3322c273",
   "metadata": {
    "scrolled": true
   },
   "outputs": [
    {
     "data": {
      "text/html": [
       "<style>#sk-container-id-1 {color: black;background-color: white;}#sk-container-id-1 pre{padding: 0;}#sk-container-id-1 div.sk-toggleable {background-color: white;}#sk-container-id-1 label.sk-toggleable__label {cursor: pointer;display: block;width: 100%;margin-bottom: 0;padding: 0.3em;box-sizing: border-box;text-align: center;}#sk-container-id-1 label.sk-toggleable__label-arrow:before {content: \"▸\";float: left;margin-right: 0.25em;color: #696969;}#sk-container-id-1 label.sk-toggleable__label-arrow:hover:before {color: black;}#sk-container-id-1 div.sk-estimator:hover label.sk-toggleable__label-arrow:before {color: black;}#sk-container-id-1 div.sk-toggleable__content {max-height: 0;max-width: 0;overflow: hidden;text-align: left;background-color: #f0f8ff;}#sk-container-id-1 div.sk-toggleable__content pre {margin: 0.2em;color: black;border-radius: 0.25em;background-color: #f0f8ff;}#sk-container-id-1 input.sk-toggleable__control:checked~div.sk-toggleable__content {max-height: 200px;max-width: 100%;overflow: auto;}#sk-container-id-1 input.sk-toggleable__control:checked~label.sk-toggleable__label-arrow:before {content: \"▾\";}#sk-container-id-1 div.sk-estimator input.sk-toggleable__control:checked~label.sk-toggleable__label {background-color: #d4ebff;}#sk-container-id-1 div.sk-label input.sk-toggleable__control:checked~label.sk-toggleable__label {background-color: #d4ebff;}#sk-container-id-1 input.sk-hidden--visually {border: 0;clip: rect(1px 1px 1px 1px);clip: rect(1px, 1px, 1px, 1px);height: 1px;margin: -1px;overflow: hidden;padding: 0;position: absolute;width: 1px;}#sk-container-id-1 div.sk-estimator {font-family: monospace;background-color: #f0f8ff;border: 1px dotted black;border-radius: 0.25em;box-sizing: border-box;margin-bottom: 0.5em;}#sk-container-id-1 div.sk-estimator:hover {background-color: #d4ebff;}#sk-container-id-1 div.sk-parallel-item::after {content: \"\";width: 100%;border-bottom: 1px solid gray;flex-grow: 1;}#sk-container-id-1 div.sk-label:hover label.sk-toggleable__label {background-color: #d4ebff;}#sk-container-id-1 div.sk-serial::before {content: \"\";position: absolute;border-left: 1px solid gray;box-sizing: border-box;top: 0;bottom: 0;left: 50%;z-index: 0;}#sk-container-id-1 div.sk-serial {display: flex;flex-direction: column;align-items: center;background-color: white;padding-right: 0.2em;padding-left: 0.2em;position: relative;}#sk-container-id-1 div.sk-item {position: relative;z-index: 1;}#sk-container-id-1 div.sk-parallel {display: flex;align-items: stretch;justify-content: center;background-color: white;position: relative;}#sk-container-id-1 div.sk-item::before, #sk-container-id-1 div.sk-parallel-item::before {content: \"\";position: absolute;border-left: 1px solid gray;box-sizing: border-box;top: 0;bottom: 0;left: 50%;z-index: -1;}#sk-container-id-1 div.sk-parallel-item {display: flex;flex-direction: column;z-index: 1;position: relative;background-color: white;}#sk-container-id-1 div.sk-parallel-item:first-child::after {align-self: flex-end;width: 50%;}#sk-container-id-1 div.sk-parallel-item:last-child::after {align-self: flex-start;width: 50%;}#sk-container-id-1 div.sk-parallel-item:only-child::after {width: 0;}#sk-container-id-1 div.sk-dashed-wrapped {border: 1px dashed gray;margin: 0 0.4em 0.5em 0.4em;box-sizing: border-box;padding-bottom: 0.4em;background-color: white;}#sk-container-id-1 div.sk-label label {font-family: monospace;font-weight: bold;display: inline-block;line-height: 1.2em;}#sk-container-id-1 div.sk-label-container {text-align: center;}#sk-container-id-1 div.sk-container {/* jupyter's `normalize.less` sets `[hidden] { display: none; }` but bootstrap.min.css set `[hidden] { display: none !important; }` so we also need the `!important` here to be able to override the default hidden behavior on the sphinx rendered scikit-learn.org. See: https://github.com/scikit-learn/scikit-learn/issues/21755 */display: inline-block !important;position: relative;}#sk-container-id-1 div.sk-text-repr-fallback {display: none;}</style><div id=\"sk-container-id-1\" class=\"sk-top-container\"><div class=\"sk-text-repr-fallback\"><pre>RandomForestRegressor()</pre><b>In a Jupyter environment, please rerun this cell to show the HTML representation or trust the notebook. <br />On GitHub, the HTML representation is unable to render, please try loading this page with nbviewer.org.</b></div><div class=\"sk-container\" hidden><div class=\"sk-item\"><div class=\"sk-estimator sk-toggleable\"><input class=\"sk-toggleable__control sk-hidden--visually\" id=\"sk-estimator-id-1\" type=\"checkbox\" checked><label for=\"sk-estimator-id-1\" class=\"sk-toggleable__label sk-toggleable__label-arrow\">RandomForestRegressor</label><div class=\"sk-toggleable__content\"><pre>RandomForestRegressor()</pre></div></div></div></div></div>"
      ],
      "text/plain": [
       "RandomForestRegressor()"
      ]
     },
     "execution_count": 8,
     "metadata": {},
     "output_type": "execute_result"
    }
   ],
   "source": [
    "from sklearn.linear_model import LinearRegression\n",
    "from sklearn.tree import DecisionTreeRegressor\n",
    "from sklearn.ensemble import RandomForestRegressor\n",
    "#model = DecisionTreeRegressor()\n",
    "model = RandomForestRegressor()\n",
    "#model = LinearRegression()\n",
    "model.fit(housing_num_tr,Y)"
   ]
  },
  {
   "cell_type": "code",
   "execution_count": 9,
   "id": "552e74aa",
   "metadata": {},
   "outputs": [],
   "source": [
    "some_data=X.iloc[:100]\n",
    "some_label=Y.iloc[:100]"
   ]
  },
  {
   "cell_type": "code",
   "execution_count": 10,
   "id": "feb697fc",
   "metadata": {},
   "outputs": [],
   "source": [
    "prepared_data =my_pipeline.transform(some_data)"
   ]
  },
  {
   "cell_type": "code",
   "execution_count": 11,
   "id": "a5d8b294",
   "metadata": {
    "scrolled": true
   },
   "outputs": [
    {
     "data": {
      "text/plain": [
       "array([202834.5 , 173257.37, 218611.78, 150248.1 , 266570.89, 144504.33,\n",
       "       303932.24, 212292.4 , 148984.  , 119894.5 , 130052.  , 351178.94,\n",
       "       137732.66, 253852.38, 154342.  , 142652.5 , 148918.5 ,  95020.53,\n",
       "       156291.5 , 140034.09, 317798.25, 137774.  , 233879.22, 134921.  ,\n",
       "       148198.75, 246590.23, 132643.  , 303787.66, 189694.5 ,  67889.15,\n",
       "        63760.  , 144305.  , 191425.52, 164743.  , 284342.26, 305279.44,\n",
       "       145813.  , 152553.33, 122734.25,  87688.5 , 159398.59, 162999.  ,\n",
       "       141545.  , 129231.5 , 138235.25, 308667.91, 257103.14, 248370.62,\n",
       "       113887.85, 127264.83, 175423.8 , 118260.  , 112297.  , 400494.75,\n",
       "       130317.82, 174403.32, 188156.  , 196087.5 , 425577.58, 124161.66,\n",
       "       162451.17, 100362.34, 207918.45, 144602.35, 226985.79, 309553.82,\n",
       "       216434.44, 216767.28,  81893.  , 235899.65, 260327.97, 122693.  ,\n",
       "       186364.  , 143896.37, 112674.68,  89087.61, 126423.82, 125426.84,\n",
       "       133198.05, 109980.01, 183821.44, 159918.67, 244942.14, 126551.3 ,\n",
       "       168163.35, 266508.7 , 175285.22, 157674.26, 100063.  , 121355.75,\n",
       "       102912.86, 116689.  , 146676.54, 167135.  , 205542.5 , 181339.64,\n",
       "       219775.  , 105236.91,  86407.5 , 124159.25])"
      ]
     },
     "execution_count": 11,
     "metadata": {},
     "output_type": "execute_result"
    }
   ],
   "source": [
    "model.predict(prepared_data)"
   ]
  },
  {
   "cell_type": "code",
   "execution_count": 12,
   "id": "8dc7939b",
   "metadata": {},
   "outputs": [
    {
     "data": {
      "text/plain": [
       "0     208500\n",
       "1     181500\n",
       "2     223500\n",
       "3     140000\n",
       "4     250000\n",
       "       ...  \n",
       "95    185000\n",
       "96    214000\n",
       "97     94750\n",
       "98     83000\n",
       "99    128950\n",
       "Name: SalePrice, Length: 100, dtype: int64"
      ]
     },
     "execution_count": 12,
     "metadata": {},
     "output_type": "execute_result"
    }
   ],
   "source": [
    "some_label"
   ]
  },
  {
   "cell_type": "code",
   "execution_count": 13,
   "id": "968fb166",
   "metadata": {},
   "outputs": [],
   "source": [
    "from sklearn.metrics import mean_squared_error\n",
    "import numpy as np\n",
    "housing_predictions = model.predict(housing_num_tr)\n",
    "lin_mse = mean_squared_error(Y,housing_predictions)\n",
    "mse=np.sqrt(lin_mse)"
   ]
  },
  {
   "cell_type": "code",
   "execution_count": 14,
   "id": "8ad1396a",
   "metadata": {},
   "outputs": [
    {
     "data": {
      "text/plain": [
       "11779.063596625447"
      ]
     },
     "execution_count": 14,
     "metadata": {},
     "output_type": "execute_result"
    }
   ],
   "source": [
    "mse"
   ]
  },
  {
   "cell_type": "code",
   "execution_count": 15,
   "id": "ad8bfba0",
   "metadata": {},
   "outputs": [],
   "source": [
    "from sklearn.model_selection import cross_val_score\n",
    "scores = cross_val_score(model, housing_num_tr,Y,scoring=\"neg_mean_squared_error\",cv=10)\n",
    "rsme_scores=np.sqrt(-scores)"
   ]
  },
  {
   "cell_type": "code",
   "execution_count": 16,
   "id": "95187c35",
   "metadata": {},
   "outputs": [
    {
     "data": {
      "text/plain": [
       "array([28739.45989258, 28418.60923956, 24560.53455609, 46747.9778254 ,\n",
       "       33372.93858982, 27227.23260532, 23837.97452557, 24892.99125471,\n",
       "       40673.88875256, 26636.17523674])"
      ]
     },
     "execution_count": 16,
     "metadata": {},
     "output_type": "execute_result"
    }
   ],
   "source": [
    "rsme_scores"
   ]
  },
  {
   "cell_type": "code",
   "execution_count": 17,
   "id": "5356bab0",
   "metadata": {},
   "outputs": [
    {
     "name": "stdout",
     "output_type": "stream",
     "text": [
      "mean: 30510.77824783441\n",
      "std dev: 7210.6007214256715\n"
     ]
    }
   ],
   "source": [
    "print(\"mean:\", rsme_scores.mean())\n",
    "print(\"std dev:\", rsme_scores.std())"
   ]
  },
  {
   "cell_type": "code",
   "execution_count": null,
   "id": "6e477e18",
   "metadata": {},
   "outputs": [],
   "source": []
  },
  {
   "cell_type": "code",
   "execution_count": null,
   "id": "73ced4d3",
   "metadata": {},
   "outputs": [],
   "source": []
  }
 ],
 "metadata": {
  "kernelspec": {
   "display_name": "Python 3 (ipykernel)",
   "language": "python",
   "name": "python3"
  },
  "language_info": {
   "codemirror_mode": {
    "name": "ipython",
    "version": 3
   },
   "file_extension": ".py",
   "mimetype": "text/x-python",
   "name": "python",
   "nbconvert_exporter": "python",
   "pygments_lexer": "ipython3",
   "version": "3.10.6"
  }
 },
 "nbformat": 4,
 "nbformat_minor": 5
}
