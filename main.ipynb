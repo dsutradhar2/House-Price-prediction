{
 "cells": [
  {
   "cell_type": "markdown",
   "id": "61f98da7",
   "metadata": {},
   "source": [
    "# import all required libraries"
   ]
  },
  {
   "cell_type": "code",
   "execution_count": 1,
   "id": "f584d0c5",
   "metadata": {},
   "outputs": [],
   "source": [
    "import xgboost\n",
    "import numpy as np\n",
    "import pandas as pd\n",
    "from sklearn.impute import SimpleImputer\n",
    "from sklearn.tree import DecisionTreeRegressor\n",
    "from sklearn.compose import ColumnTransformer\n",
    "from sklearn.preprocessing import OrdinalEncoder\n",
    "from sklearn.preprocessing import StandardScaler\n",
    "from sklearn.preprocessing import OneHotEncoder\n",
    "from sklearn.linear_model import LinearRegression\n",
    "from sklearn.model_selection import train_test_split\n",
    "from sklearn.ensemble import RandomForestRegressor\n",
    "from sklearn.metrics import mean_squared_error, mean_absolute_error,r2_score"
   ]
  },
  {
   "cell_type": "markdown",
   "id": "34e891e4",
   "metadata": {},
   "source": [
    "# Load data from csv file"
   ]
  },
  {
   "cell_type": "code",
   "execution_count": 2,
   "id": "83b7ff7e",
   "metadata": {},
   "outputs": [],
   "source": [
    "housing_train = pd.read_csv('train.csv')\n",
    "housing_test = pd.read_csv('test.csv')"
   ]
  },
  {
   "cell_type": "markdown",
   "id": "1e60aefe",
   "metadata": {},
   "source": [
    "# Feature Engineering"
   ]
  },
  {
   "cell_type": "markdown",
   "id": "71d05c59",
   "metadata": {},
   "source": [
    "## Drop low corelated features"
   ]
  },
  {
   "cell_type": "code",
   "execution_count": 3,
   "id": "22608a15",
   "metadata": {},
   "outputs": [],
   "source": [
    "housing_train = housing_train.drop(['PoolArea'], axis=1)\n",
    "housing_test = housing_test.drop(['PoolArea'], axis=1)\n",
    "housing_train = housing_train.drop(['MoSold'], axis=1)\n",
    "housing_test = housing_test.drop(['MoSold'], axis=1)\n",
    "housing_train = housing_train.drop(['3SsnPorch'], axis=1)\n",
    "housing_test = housing_test.drop(['3SsnPorch'], axis=1)\n",
    "housing_train = housing_train.drop(['BsmtFinSF2'], axis=1)\n",
    "housing_test = housing_test.drop(['BsmtFinSF2'], axis=1)\n",
    "housing_train = housing_train.drop(['BsmtHalfBath'], axis=1)\n",
    "housing_test = housing_test.drop(['BsmtHalfBath'], axis=1)\n",
    "housing_train = housing_train.drop(['MiscVal'], axis=1)\n",
    "housing_test = housing_test.drop(['MiscVal'], axis=1)\n",
    "housing_train = housing_train.drop(['Id'], axis=1)\n",
    "housing_test = housing_test.drop(['Id'], axis=1)\n",
    "housing_train = housing_train.drop(['LowQualFinSF'], axis=1)\n",
    "housing_test = housing_test.drop(['LowQualFinSF'], axis=1)\n",
    "housing_train = housing_train.drop(['YrSold'], axis=1)\n",
    "housing_test = housing_test.drop(['YrSold'], axis=1)\n",
    "housing_train = housing_train.drop(['MSSubClass'], axis=1)\n",
    "housing_test = housing_test.drop(['MSSubClass'], axis=1)\n",
    "housing_train = housing_train.drop(['EnclosedPorch'], axis=1)\n",
    "housing_test = housing_test.drop(['EnclosedPorch'], axis=1)\n",
    "housing_train = housing_train.drop(['KitchenAbvGr'], axis=1)\n",
    "housing_test = housing_test.drop(['KitchenAbvGr'], axis=1)\n",
    "housing_test = housing_test.drop(['Utilities'], axis=1)\n",
    "housing_train = housing_train.drop(['Utilities'], axis=1)\n",
    "housing_test = housing_test.drop(['LandSlope'], axis=1)\n",
    "housing_train = housing_train.drop(['LandSlope'], axis=1)\n",
    "housing_test = housing_test.drop(['Street'], axis=1)\n",
    "housing_train = housing_train.drop(['Street'], axis=1)"
   ]
  },
  {
   "cell_type": "markdown",
   "id": "2e314297",
   "metadata": {},
   "source": [
    "## Drop label column "
   ]
  },
  {
   "cell_type": "code",
   "execution_count": 4,
   "id": "ba410739",
   "metadata": {},
   "outputs": [],
   "source": [
    "Y_label =  housing_train['SalePrice'].copy()\n",
    "housing_train = housing_train.drop(['SalePrice'], axis=1)\n",
    "all_data = pd.concat([housing_train, housing_test])"
   ]
  },
  {
   "cell_type": "markdown",
   "id": "c40dec18",
   "metadata": {},
   "source": [
    "## Fill empty data"
   ]
  },
  {
   "cell_type": "code",
   "execution_count": 5,
   "id": "e7d28b63",
   "metadata": {},
   "outputs": [],
   "source": [
    "for column in ['Alley',\n",
    "                       'BsmtQual',\n",
    "                       'BsmtCond',\n",
    "                       'BsmtExposure',\n",
    "                       'BsmtFinType1',\n",
    "                       'BsmtFinType2',\n",
    "                       'FireplaceQu',\n",
    "                       'GarageType',\n",
    "                       'GarageFinish',\n",
    "                       'GarageQual',\n",
    "                       'GarageCond',\n",
    "                       'PoolQC',\n",
    "                       'Fence',\n",
    "                       'MiscFeature'\n",
    "                ]:\n",
    "    all_data[column]=all_data[column].fillna('None')\n",
    "    \n",
    "for column in ['MSZoning',\n",
    "                       'Exterior1st',\n",
    "                       'Exterior2nd',\n",
    "                       'MasVnrType',\n",
    "                       'Electrical',\n",
    "                       'KitchenQual',\n",
    "                       'Functional',\n",
    "                       'SaleType',\n",
    "                       'GarageYrBlt']:\n",
    "    all_data[column]=all_data[column].fillna(all_data[column].mode()[0])\n",
    "for column in ['LotFrontage',\n",
    "                        'MasVnrArea',\n",
    "                        'BsmtFinSF1',\n",
    "                        'BsmtUnfSF',\n",
    "                        'TotalBsmtSF',\n",
    "                        'BsmtFullBath',\n",
    "                        'GarageCars',\n",
    "                        'GarageArea']:\n",
    "    all_data[column]=all_data[column].fillna(all_data[column].median())"
   ]
  },
  {
   "cell_type": "markdown",
   "id": "cee1ef5f",
   "metadata": {
    "scrolled": true
   },
   "source": [
    "## Handle categorical data using Ordinal encoder and One hot encoder"
   ]
  },
  {
   "cell_type": "code",
   "execution_count": 6,
   "id": "c9fe02e4",
   "metadata": {
    "scrolled": true
   },
   "outputs": [],
   "source": [
    "column_transformer = ColumnTransformer(transformers=[(\"OE\", OrdinalEncoder(categories=[\n",
    "                                                                                             ['Po','Fa','TA','Gd','Ex'], #ExterQual\n",
    "                                                                                             ['Po','Fa','TA','Gd','Ex'], #ExterCond\n",
    "                                                                                             ['None','Po','Fa','TA','Gd','Ex'], #BsmtQual\n",
    "                                                                                             ['None','Po','Fa','TA','Gd','Ex'], #BsmtCond\n",
    "                                                                                             ['None','No','Mn','Av','Gd'], #BsmtExposure\n",
    "                                                                                             ['None','Unf','LwQ','Rec','BLQ','ALQ','GLQ'], #BsmtFinType1\n",
    "                                                                                             ['None','Unf','LwQ','Rec','BLQ','ALQ','GLQ'], #BsmtFinType2\n",
    "                                                                                             ['Po','Fa','TA','Gd','Ex'], #HeatingQC\n",
    "                                                                                             ['N','Y'],#CentralAir\n",
    "                                                                                             ['Po','Fa','TA','Gd','Ex'], #KitchenQual\n",
    "                                                                                             ['None','Po','Fa','TA','Gd','Ex'],#FireplaceQu\n",
    "                                                                                             ['None','Unf','RFn','Fin'], #GarageFinish\n",
    "                                                                                             ['None','Po','Fa','TA','Gd','Ex'], #GarageQual\n",
    "                                                                                             ['N','P','Y'], #PavedDrive\n",
    "                                                                                             ['None','Po','Fa','TA','Gd','Ex'], #PoolQC\n",
    "                                                                                      ]\n",
    "                                                                           ), \n",
    "                                                       ['ExterQual', 'ExterCond', 'BsmtQual', 'BsmtCond', 'BsmtExposure', 'BsmtFinType1', 'BsmtFinType2','HeatingQC', 'CentralAir', 'KitchenQual',  'FireplaceQu', 'GarageFinish', 'GarageQual', 'PavedDrive','PoolQC']\n",
    "                                                     ),\n",
    "                                                    ('OHE', OneHotEncoder(sparse_output=False, drop='first'), ['Functional','MSZoning','Alley','LotShape','LandContour','LotConfig','Neighborhood','Condition1','Condition2','BldgType','HouseStyle','GarageCond','RoofStyle','RoofMatl','Exterior1st','Exterior2nd','MasVnrType','Foundation','Heating','Electrical','MiscFeature','SaleType','SaleCondition','Fence', 'GarageType'])], remainder='passthrough')\n",
    "column_transformer.set_output(transform='pandas')\n",
    "all_data_trans = column_transformer.fit_transform(all_data)\n",
    "all_data_trans = all_data_trans.loc[:,~all_data_trans.columns.duplicated()].copy()"
   ]
  },
  {
   "cell_type": "markdown",
   "id": "83d90c54",
   "metadata": {},
   "source": [
    "# Divide the data into training and testing data"
   ]
  },
  {
   "cell_type": "code",
   "execution_count": 7,
   "id": "f92d6e82",
   "metadata": {},
   "outputs": [],
   "source": [
    "housing_train = all_data_trans.iloc[:1460,:]\n",
    "housing_test = all_data_trans.iloc[1460:,:]\n",
    "X_test=housing_train.iloc[:200]\n",
    "Y_test = Y_label.iloc[:200]\n"
   ]
  },
  {
   "cell_type": "markdown",
   "id": "184d20b4",
   "metadata": {},
   "source": [
    "# Using Standrd Scaler"
   ]
  },
  {
   "cell_type": "code",
   "execution_count": 8,
   "id": "28a5a73f",
   "metadata": {},
   "outputs": [],
   "source": [
    "scaler = StandardScaler()\n",
    "housing_train_tr = scaler.fit_transform(housing_train)\n",
    "housing_test_tr = scaler.transform(housing_test)\n",
    "prepared_data =scaler.fit_transform(X_test)"
   ]
  },
  {
   "cell_type": "markdown",
   "id": "2fe02444",
   "metadata": {},
   "source": [
    "# Predictions using different ML algorithms"
   ]
  },
  {
   "cell_type": "markdown",
   "id": "a4e5f27d",
   "metadata": {},
   "source": [
    "## 1. Linear Regression"
   ]
  },
  {
   "cell_type": "code",
   "execution_count": 9,
   "id": "f868bd09",
   "metadata": {},
   "outputs": [
    {
     "name": "stdout",
     "output_type": "stream",
     "text": [
      "MAE: 20245.053424429196\n",
      "RMSE: 42539.22131505131\n",
      "R2: 0.6902588520345366\n"
     ]
    }
   ],
   "source": [
    "model_linear_regression = LinearRegression()\n",
    "model_linear_regression.fit(housing_train_tr,Y_label)\n",
    "Y_pred_linear_regression = model_linear_regression.predict(prepared_data)\n",
    "r2=r2_score(Y_test, Y_pred_linear_regression)\n",
    "print('MAE:', mean_absolute_error(Y_test, Y_pred_linear_regression))\n",
    "print('RMSE:', np.sqrt(mean_squared_error(Y_test, Y_pred_linear_regression)))\n",
    "print('R2:', r2)"
   ]
  },
  {
   "cell_type": "markdown",
   "id": "844e7d76",
   "metadata": {},
   "source": [
    "## 2. Decision Tree regressor"
   ]
  },
  {
   "cell_type": "code",
   "execution_count": 10,
   "id": "8981d69b",
   "metadata": {},
   "outputs": [
    {
     "name": "stdout",
     "output_type": "stream",
     "text": [
      "MAE: 3268.575\n",
      "RMSE: 10434.057018964388\n",
      "R2: 0.9813651353244505\n"
     ]
    }
   ],
   "source": [
    "model_decision_tree = DecisionTreeRegressor()\n",
    "model_decision_tree.fit(housing_train_tr,Y_label)\n",
    "Y_pred_decision_tree = model_decision_tree.predict(prepared_data)\n",
    "r2=r2_score(Y_test, Y_pred_decision_tree)\n",
    "print('MAE:', mean_absolute_error(Y_test, Y_pred_decision_tree))\n",
    "print('RMSE:', np.sqrt(mean_squared_error(Y_test, Y_pred_decision_tree)))\n",
    "print('R2:', r2)"
   ]
  },
  {
   "cell_type": "markdown",
   "id": "4e7be6bc",
   "metadata": {},
   "source": [
    "## 3. Random Forest Regressor"
   ]
  },
  {
   "cell_type": "code",
   "execution_count": 11,
   "id": "a9452019",
   "metadata": {},
   "outputs": [
    {
     "name": "stdout",
     "output_type": "stream",
     "text": [
      "MAE: 8361.4688\n",
      "RMSE: 11921.568477943463\n",
      "R2: 0.9756731079822598\n"
     ]
    }
   ],
   "source": [
    "model_random_forest = RandomForestRegressor(n_estimators=1000)\n",
    "model_random_forest.fit(housing_train_tr,Y_label)\n",
    "Y_pred_random_forest = model_random_forest.predict(prepared_data)\n",
    "r2=r2_score(Y_test, Y_pred_random_forest)\n",
    "print('MAE:', mean_absolute_error(Y_test, Y_pred_random_forest))\n",
    "print('RMSE:', np.sqrt(mean_squared_error(Y_test, Y_pred_random_forest)))\n",
    "print('R2:', r2)"
   ]
  },
  {
   "cell_type": "markdown",
   "id": "314d223b",
   "metadata": {},
   "source": [
    "## 4. XGBRegressor"
   ]
  },
  {
   "cell_type": "code",
   "execution_count": 12,
   "id": "4088af71",
   "metadata": {
    "scrolled": false
   },
   "outputs": [],
   "source": [
    "model_xgb=xgboost.XGBRegressor(learning_rate=0.12)\n",
    "model_xgb.fit(housing_train_tr,Y_label)\n",
    "Y_pred_xgb = model_xgb.predict(prepared_data)"
   ]
  },
  {
   "cell_type": "code",
   "execution_count": 13,
   "id": "f4ec4ff4",
   "metadata": {
    "scrolled": true
   },
   "outputs": [
    {
     "name": "stdout",
     "output_type": "stream",
     "text": [
      "MAE: 7005.5425390625\n",
      "RMSE: 9422.234761373058\n",
      "R2: 0.9848040563824535\n"
     ]
    }
   ],
   "source": [
    "r2=r2_score(Y_test, Y_pred_xgb)\n",
    "print('MAE:', mean_absolute_error(Y_test, Y_pred_xgb))\n",
    "print('RMSE:', np.sqrt(mean_squared_error(Y_test, Y_pred_xgb)))\n",
    "print('R2:', r2)"
   ]
  }
 ],
 "metadata": {
  "kernelspec": {
   "display_name": "Python 3 (ipykernel)",
   "language": "python",
   "name": "python3"
  },
  "language_info": {
   "codemirror_mode": {
    "name": "ipython",
    "version": 3
   },
   "file_extension": ".py",
   "mimetype": "text/x-python",
   "name": "python",
   "nbconvert_exporter": "python",
   "pygments_lexer": "ipython3",
   "version": "3.10.6"
  }
 },
 "nbformat": 4,
 "nbformat_minor": 5
}
