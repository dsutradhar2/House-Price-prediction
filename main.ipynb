{
 "cells": [
  {
   "cell_type": "markdown",
   "id": "61f98da7",
   "metadata": {},
   "source": [
    "# import all required libraries"
   ]
  },
  {
   "cell_type": "code",
   "execution_count": 1,
   "id": "f584d0c5",
   "metadata": {},
   "outputs": [],
   "source": [
    "import numpy as np\n",
    "import pandas as pd\n",
    "from sklearn.impute import SimpleImputer\n",
    "from sklearn.compose import ColumnTransformer\n",
    "from sklearn.preprocessing import OneHotEncoder\n",
    "from sklearn.preprocessing import OrdinalEncoder\n",
    "from sklearn.preprocessing import StandardScaler\n",
    "from sklearn.model_selection import train_test_split\n",
    "from sklearn.metrics import mean_squared_error, mean_absolute_error,r2_score"
   ]
  },
  {
   "cell_type": "markdown",
   "id": "34e891e4",
   "metadata": {},
   "source": [
    "# Load data from csv file"
   ]
  },
  {
   "cell_type": "code",
   "execution_count": 2,
   "id": "83b7ff7e",
   "metadata": {},
   "outputs": [],
   "source": [
    "housing_train = pd.read_csv('train.csv')\n",
    "housing_test = pd.read_csv('test.csv')"
   ]
  },
  {
   "cell_type": "markdown",
   "id": "1e60aefe",
   "metadata": {},
   "source": [
    "# Feature Engineering"
   ]
  },
  {
   "cell_type": "markdown",
   "id": "71d05c59",
   "metadata": {},
   "source": [
    "## Drop low corelated features"
   ]
  },
  {
   "cell_type": "code",
   "execution_count": 3,
   "id": "7a32d379",
   "metadata": {},
   "outputs": [],
   "source": [
    "housing_train = housing_train.drop(['PoolArea'], axis=1)\n",
    "housing_test = housing_test.drop(['PoolArea'], axis=1)\n",
    "housing_train = housing_train.drop(['MoSold'], axis=1)\n",
    "housing_test = housing_test.drop(['MoSold'], axis=1)\n",
    "housing_train = housing_train.drop(['3SsnPorch'], axis=1)\n",
    "housing_test = housing_test.drop(['3SsnPorch'], axis=1)\n",
    "housing_train = housing_train.drop(['BsmtFinSF2'], axis=1)\n",
    "housing_test = housing_test.drop(['BsmtFinSF2'], axis=1)\n",
    "housing_train = housing_train.drop(['BsmtHalfBath'], axis=1)\n",
    "housing_test = housing_test.drop(['BsmtHalfBath'], axis=1)\n",
    "housing_train = housing_train.drop(['MiscVal'], axis=1)\n",
    "housing_test = housing_test.drop(['MiscVal'], axis=1)\n",
    "housing_train = housing_train.drop(['Id'], axis=1)\n",
    "housing_test = housing_test.drop(['Id'], axis=1)\n",
    "housing_train = housing_train.drop(['LowQualFinSF'], axis=1)\n",
    "housing_test = housing_test.drop(['LowQualFinSF'], axis=1)\n",
    "housing_train = housing_train.drop(['YrSold'], axis=1)\n",
    "housing_test = housing_test.drop(['YrSold'], axis=1)\n",
    "housing_train = housing_train.drop(['MSSubClass'], axis=1)\n",
    "housing_test = housing_test.drop(['MSSubClass'], axis=1)\n",
    "housing_train = housing_train.drop(['EnclosedPorch'], axis=1)\n",
    "housing_test = housing_test.drop(['EnclosedPorch'], axis=1)\n",
    "housing_train = housing_train.drop(['KitchenAbvGr'], axis=1)\n",
    "housing_test = housing_test.drop(['KitchenAbvGr'], axis=1)\n",
    "housing_test = housing_test.drop(['Utilities'], axis=1)\n",
    "housing_train = housing_train.drop(['Utilities'], axis=1)\n",
    "housing_test = housing_test.drop(['LandSlope'], axis=1)\n",
    "housing_train = housing_train.drop(['LandSlope'], axis=1)\n",
    "housing_test = housing_test.drop(['Street'], axis=1)\n",
    "housing_train = housing_train.drop(['Street'], axis=1)"
   ]
  },
  {
   "cell_type": "markdown",
   "id": "2e314297",
   "metadata": {},
   "source": [
    "# Drop label column "
   ]
  },
  {
   "cell_type": "code",
   "execution_count": 4,
   "id": "ba410739",
   "metadata": {},
   "outputs": [],
   "source": [
    "Y_label =  housing_train['SalePrice'].copy()\n",
    "housing_train = housing_train.drop(['SalePrice'], axis=1)\n",
    "all_data = pd.concat([housing_train, housing_test])"
   ]
  },
  {
   "cell_type": "markdown",
   "id": "c40dec18",
   "metadata": {},
   "source": [
    "## Fill empty data"
   ]
  },
  {
   "cell_type": "code",
   "execution_count": 5,
   "id": "e7d28b63",
   "metadata": {},
   "outputs": [],
   "source": [
    "for column in ['Alley',\n",
    "                       'BsmtQual',\n",
    "                       'BsmtCond',\n",
    "                       'BsmtExposure',\n",
    "                       'BsmtFinType1',\n",
    "                       'BsmtFinType2',\n",
    "                       'FireplaceQu',\n",
    "                       'GarageType',\n",
    "                       'GarageFinish',\n",
    "                       'GarageQual',\n",
    "                       'GarageCond',\n",
    "                       'PoolQC',\n",
    "                       'Fence',\n",
    "                       'MiscFeature'\n",
    "                ]:\n",
    "    all_data[column]=all_data[column].fillna('None')\n",
    "    \n",
    "for column in ['MSZoning',\n",
    "                       'Exterior1st',\n",
    "                       'Exterior2nd',\n",
    "                       'MasVnrType',\n",
    "                       'Electrical',\n",
    "                       'KitchenQual',\n",
    "                       'Functional',\n",
    "                       'SaleType',\n",
    "                       'GarageYrBlt']:\n",
    "    all_data[column]=all_data[column].fillna(all_data[column].mode()[0])\n",
    "for column in ['LotFrontage',\n",
    "                        'MasVnrArea',\n",
    "                        'BsmtFinSF1',\n",
    "                        'BsmtUnfSF',\n",
    "                        'TotalBsmtSF',\n",
    "                        'BsmtFullBath',\n",
    "                        'GarageCars',\n",
    "                        'GarageArea']:\n",
    "    all_data[column]=all_data[column].fillna(all_data[column].median())"
   ]
  },
  {
   "cell_type": "markdown",
   "id": "cee1ef5f",
   "metadata": {
    "scrolled": true
   },
   "source": [
    "## Handle categorical data"
   ]
  },
  {
   "cell_type": "markdown",
   "id": "1a113ae2",
   "metadata": {},
   "source": [
    "### Ordinal encoder and One hot encoder"
   ]
  },
  {
   "cell_type": "code",
   "execution_count": 6,
   "id": "c9fe02e4",
   "metadata": {
    "scrolled": true
   },
   "outputs": [],
   "source": [
    "column_transformer = ColumnTransformer(transformers=[(\"OE\", OrdinalEncoder(categories=[\n",
    "                                                                                             ['Po','Fa','TA','Gd','Ex'], #ExterQual\n",
    "                                                                                             ['Po','Fa','TA','Gd','Ex'], #ExterCond\n",
    "                                                                                             ['None','Po','Fa','TA','Gd','Ex'], #BsmtQual\n",
    "                                                                                             ['None','Po','Fa','TA','Gd','Ex'], #BsmtCond\n",
    "                                                                                             ['None','No','Mn','Av','Gd'], #BsmtExposure\n",
    "                                                                                             ['None','Unf','LwQ','Rec','BLQ','ALQ','GLQ'], #BsmtFinType1\n",
    "                                                                                             ['None','Unf','LwQ','Rec','BLQ','ALQ','GLQ'], #BsmtFinType2\n",
    "                                                                                             ['Po','Fa','TA','Gd','Ex'], #HeatingQC\n",
    "                                                                                             ['N','Y'],#CentralAir\n",
    "                                                                                             ['Po','Fa','TA','Gd','Ex'], #KitchenQual\n",
    "                                                                                             ['None','Po','Fa','TA','Gd','Ex'],#FireplaceQu\n",
    "                                                                                             ['None','Unf','RFn','Fin'], #GarageFinish\n",
    "                                                                                             ['None','Po','Fa','TA','Gd','Ex'], #GarageQual\n",
    "                                                                                             ['N','P','Y'], #PavedDrive\n",
    "                                                                                             ['None','Po','Fa','TA','Gd','Ex'], #PoolQC\n",
    "                                                                                      ]\n",
    "                                                                           ), \n",
    "                                                       ['ExterQual', 'ExterCond', 'BsmtQual', 'BsmtCond', 'BsmtExposure', 'BsmtFinType1', 'BsmtFinType2','HeatingQC', 'CentralAir', 'KitchenQual',  'FireplaceQu', 'GarageFinish', 'GarageQual', 'PavedDrive','PoolQC']\n",
    "                                                     ),\n",
    "                                                    ('OHE', OneHotEncoder(sparse_output=False, drop='first'), ['Functional','MSZoning','Alley','LotShape','LandContour','LotConfig','Neighborhood','Condition1','Condition2','BldgType','HouseStyle','GarageCond','RoofStyle','RoofMatl','Exterior1st','Exterior2nd','MasVnrType','Foundation','Heating','Electrical','MiscFeature','SaleType','SaleCondition','Fence', 'GarageType'])], remainder='passthrough')\n",
    "column_transformer.set_output(transform='pandas')\n",
    "all_data_trans = column_transformer.fit_transform(all_data)\n",
    "all_data_trans = all_data_trans.loc[:,~all_data_trans.columns.duplicated()].copy()"
   ]
  },
  {
   "cell_type": "code",
   "execution_count": 7,
   "id": "f92d6e82",
   "metadata": {},
   "outputs": [],
   "source": [
    "housing_train = all_data_trans.iloc[:1460,:]\n",
    "housing_test = all_data_trans.iloc[1460:,:]\n",
    "X_test=housing_train.iloc[:200]\n",
    "Y_test = Y_label.iloc[:200]"
   ]
  },
  {
   "cell_type": "code",
   "execution_count": 8,
   "id": "28a5a73f",
   "metadata": {},
   "outputs": [],
   "source": [
    "scaler = StandardScaler()\n",
    "housing_train_tr = scaler.fit_transform(housing_train)\n",
    "housing_test_tr = scaler.transform(housing_test)"
   ]
  },
  {
   "cell_type": "code",
   "execution_count": 9,
   "id": "4088af71",
   "metadata": {
    "scrolled": true
   },
   "outputs": [
    {
     "data": {
      "text/html": [
       "<style>#sk-container-id-1 {color: black;background-color: white;}#sk-container-id-1 pre{padding: 0;}#sk-container-id-1 div.sk-toggleable {background-color: white;}#sk-container-id-1 label.sk-toggleable__label {cursor: pointer;display: block;width: 100%;margin-bottom: 0;padding: 0.3em;box-sizing: border-box;text-align: center;}#sk-container-id-1 label.sk-toggleable__label-arrow:before {content: \"▸\";float: left;margin-right: 0.25em;color: #696969;}#sk-container-id-1 label.sk-toggleable__label-arrow:hover:before {color: black;}#sk-container-id-1 div.sk-estimator:hover label.sk-toggleable__label-arrow:before {color: black;}#sk-container-id-1 div.sk-toggleable__content {max-height: 0;max-width: 0;overflow: hidden;text-align: left;background-color: #f0f8ff;}#sk-container-id-1 div.sk-toggleable__content pre {margin: 0.2em;color: black;border-radius: 0.25em;background-color: #f0f8ff;}#sk-container-id-1 input.sk-toggleable__control:checked~div.sk-toggleable__content {max-height: 200px;max-width: 100%;overflow: auto;}#sk-container-id-1 input.sk-toggleable__control:checked~label.sk-toggleable__label-arrow:before {content: \"▾\";}#sk-container-id-1 div.sk-estimator input.sk-toggleable__control:checked~label.sk-toggleable__label {background-color: #d4ebff;}#sk-container-id-1 div.sk-label input.sk-toggleable__control:checked~label.sk-toggleable__label {background-color: #d4ebff;}#sk-container-id-1 input.sk-hidden--visually {border: 0;clip: rect(1px 1px 1px 1px);clip: rect(1px, 1px, 1px, 1px);height: 1px;margin: -1px;overflow: hidden;padding: 0;position: absolute;width: 1px;}#sk-container-id-1 div.sk-estimator {font-family: monospace;background-color: #f0f8ff;border: 1px dotted black;border-radius: 0.25em;box-sizing: border-box;margin-bottom: 0.5em;}#sk-container-id-1 div.sk-estimator:hover {background-color: #d4ebff;}#sk-container-id-1 div.sk-parallel-item::after {content: \"\";width: 100%;border-bottom: 1px solid gray;flex-grow: 1;}#sk-container-id-1 div.sk-label:hover label.sk-toggleable__label {background-color: #d4ebff;}#sk-container-id-1 div.sk-serial::before {content: \"\";position: absolute;border-left: 1px solid gray;box-sizing: border-box;top: 0;bottom: 0;left: 50%;z-index: 0;}#sk-container-id-1 div.sk-serial {display: flex;flex-direction: column;align-items: center;background-color: white;padding-right: 0.2em;padding-left: 0.2em;position: relative;}#sk-container-id-1 div.sk-item {position: relative;z-index: 1;}#sk-container-id-1 div.sk-parallel {display: flex;align-items: stretch;justify-content: center;background-color: white;position: relative;}#sk-container-id-1 div.sk-item::before, #sk-container-id-1 div.sk-parallel-item::before {content: \"\";position: absolute;border-left: 1px solid gray;box-sizing: border-box;top: 0;bottom: 0;left: 50%;z-index: -1;}#sk-container-id-1 div.sk-parallel-item {display: flex;flex-direction: column;z-index: 1;position: relative;background-color: white;}#sk-container-id-1 div.sk-parallel-item:first-child::after {align-self: flex-end;width: 50%;}#sk-container-id-1 div.sk-parallel-item:last-child::after {align-self: flex-start;width: 50%;}#sk-container-id-1 div.sk-parallel-item:only-child::after {width: 0;}#sk-container-id-1 div.sk-dashed-wrapped {border: 1px dashed gray;margin: 0 0.4em 0.5em 0.4em;box-sizing: border-box;padding-bottom: 0.4em;background-color: white;}#sk-container-id-1 div.sk-label label {font-family: monospace;font-weight: bold;display: inline-block;line-height: 1.2em;}#sk-container-id-1 div.sk-label-container {text-align: center;}#sk-container-id-1 div.sk-container {/* jupyter's `normalize.less` sets `[hidden] { display: none; }` but bootstrap.min.css set `[hidden] { display: none !important; }` so we also need the `!important` here to be able to override the default hidden behavior on the sphinx rendered scikit-learn.org. See: https://github.com/scikit-learn/scikit-learn/issues/21755 */display: inline-block !important;position: relative;}#sk-container-id-1 div.sk-text-repr-fallback {display: none;}</style><div id=\"sk-container-id-1\" class=\"sk-top-container\"><div class=\"sk-text-repr-fallback\"><pre>XGBRegressor(base_score=None, booster=None, callbacks=None,\n",
       "             colsample_bylevel=None, colsample_bynode=None,\n",
       "             colsample_bytree=None, early_stopping_rounds=None,\n",
       "             enable_categorical=False, eval_metric=None, feature_types=None,\n",
       "             gamma=None, gpu_id=None, grow_policy=None, importance_type=None,\n",
       "             interaction_constraints=None, learning_rate=0.12, max_bin=None,\n",
       "             max_cat_threshold=None, max_cat_to_onehot=None,\n",
       "             max_delta_step=None, max_depth=None, max_leaves=None,\n",
       "             min_child_weight=None, missing=nan, monotone_constraints=None,\n",
       "             n_estimators=100, n_jobs=None, num_parallel_tree=None,\n",
       "             predictor=None, random_state=None, ...)</pre><b>In a Jupyter environment, please rerun this cell to show the HTML representation or trust the notebook. <br />On GitHub, the HTML representation is unable to render, please try loading this page with nbviewer.org.</b></div><div class=\"sk-container\" hidden><div class=\"sk-item\"><div class=\"sk-estimator sk-toggleable\"><input class=\"sk-toggleable__control sk-hidden--visually\" id=\"sk-estimator-id-1\" type=\"checkbox\" checked><label for=\"sk-estimator-id-1\" class=\"sk-toggleable__label sk-toggleable__label-arrow\">XGBRegressor</label><div class=\"sk-toggleable__content\"><pre>XGBRegressor(base_score=None, booster=None, callbacks=None,\n",
       "             colsample_bylevel=None, colsample_bynode=None,\n",
       "             colsample_bytree=None, early_stopping_rounds=None,\n",
       "             enable_categorical=False, eval_metric=None, feature_types=None,\n",
       "             gamma=None, gpu_id=None, grow_policy=None, importance_type=None,\n",
       "             interaction_constraints=None, learning_rate=0.12, max_bin=None,\n",
       "             max_cat_threshold=None, max_cat_to_onehot=None,\n",
       "             max_delta_step=None, max_depth=None, max_leaves=None,\n",
       "             min_child_weight=None, missing=nan, monotone_constraints=None,\n",
       "             n_estimators=100, n_jobs=None, num_parallel_tree=None,\n",
       "             predictor=None, random_state=None, ...)</pre></div></div></div></div></div>"
      ],
      "text/plain": [
       "XGBRegressor(base_score=None, booster=None, callbacks=None,\n",
       "             colsample_bylevel=None, colsample_bynode=None,\n",
       "             colsample_bytree=None, early_stopping_rounds=None,\n",
       "             enable_categorical=False, eval_metric=None, feature_types=None,\n",
       "             gamma=None, gpu_id=None, grow_policy=None, importance_type=None,\n",
       "             interaction_constraints=None, learning_rate=0.12, max_bin=None,\n",
       "             max_cat_threshold=None, max_cat_to_onehot=None,\n",
       "             max_delta_step=None, max_depth=None, max_leaves=None,\n",
       "             min_child_weight=None, missing=nan, monotone_constraints=None,\n",
       "             n_estimators=100, n_jobs=None, num_parallel_tree=None,\n",
       "             predictor=None, random_state=None, ...)"
      ]
     },
     "execution_count": 9,
     "metadata": {},
     "output_type": "execute_result"
    }
   ],
   "source": [
    "from sklearn.linear_model import LinearRegression\n",
    "from sklearn.tree import DecisionTreeRegressor\n",
    "from sklearn.ensemble import RandomForestRegressor\n",
    "import xgboost\n",
    "model=xgboost.XGBRegressor(learning_rate=0.12)\n",
    "model.fit(housing_train_tr,Y_label)"
   ]
  },
  {
   "cell_type": "code",
   "execution_count": 10,
   "id": "6438bbaa",
   "metadata": {},
   "outputs": [],
   "source": [
    "prepared_data =scaler.fit_transform(X_test)"
   ]
  },
  {
   "cell_type": "code",
   "execution_count": 11,
   "id": "84adfd08",
   "metadata": {},
   "outputs": [],
   "source": [
    "Y_pred = model.predict(prepared_data)"
   ]
  },
  {
   "cell_type": "code",
   "execution_count": 12,
   "id": "f4ec4ff4",
   "metadata": {
    "scrolled": true
   },
   "outputs": [
    {
     "name": "stdout",
     "output_type": "stream",
     "text": [
      "MAE: 7005.5425390625\n",
      "RMSE: 9422.234761373058\n",
      "R2: 0.9848040563824535\n"
     ]
    }
   ],
   "source": [
    "housing_predictions = model.predict(housing_train_tr)\n",
    "r2=r2_score(Y_test, Y_pred)\n",
    "print('MAE:', mean_absolute_error(Y_test, Y_pred))\n",
    "print('RMSE:', np.sqrt(mean_squared_error(Y_test, Y_pred)))\n",
    "print('R2:', r2)"
   ]
  }
 ],
 "metadata": {
  "kernelspec": {
   "display_name": "Python 3 (ipykernel)",
   "language": "python",
   "name": "python3"
  },
  "language_info": {
   "codemirror_mode": {
    "name": "ipython",
    "version": 3
   },
   "file_extension": ".py",
   "mimetype": "text/x-python",
   "name": "python",
   "nbconvert_exporter": "python",
   "pygments_lexer": "ipython3",
   "version": "3.10.6"
  }
 },
 "nbformat": 4,
 "nbformat_minor": 5
}
